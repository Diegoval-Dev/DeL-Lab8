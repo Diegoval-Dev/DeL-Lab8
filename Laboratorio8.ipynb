{
 "cells": [
  {
   "cell_type": "markdown",
   "id": "a6d4a307",
   "metadata": {},
   "source": [
    "# CC3045 — Laboratorio 8: Pronóstico de Demanda con LSTM/GRU/Conv1D\n",
    "\n",
    "- Diego Valenzuela: 22309\n",
    "- Gerson Ramierez: 22281"
   ]
  },
  {
   "cell_type": "code",
   "execution_count": 1,
   "id": "20a8b813",
   "metadata": {},
   "outputs": [
    {
     "name": "stderr",
     "output_type": "stream",
     "text": [
      "2025-10-03 12:46:30.042983: E external/local_xla/xla/stream_executor/cuda/cuda_fft.cc:485] Unable to register cuFFT factory: Attempting to register factory for plugin cuFFT when one has already been registered\n",
      "2025-10-03 12:46:30.081094: E external/local_xla/xla/stream_executor/cuda/cuda_dnn.cc:8454] Unable to register cuDNN factory: Attempting to register factory for plugin cuDNN when one has already been registered\n",
      "2025-10-03 12:46:30.092341: E external/local_xla/xla/stream_executor/cuda/cuda_blas.cc:1452] Unable to register cuBLAS factory: Attempting to register factory for plugin cuBLAS when one has already been registered\n",
      "2025-10-03 12:46:30.122586: I tensorflow/core/platform/cpu_feature_guard.cc:210] This TensorFlow binary is optimized to use available CPU instructions in performance-critical operations.\n",
      "To enable the following instructions: AVX2 FMA, in other operations, rebuild TensorFlow with the appropriate compiler flags.\n",
      "2025-10-03 12:46:31.700427: W tensorflow/compiler/tf2tensorrt/utils/py_utils.cc:38] TF-TRT Warning: Could not find TensorRT\n"
     ]
    },
    {
     "name": "stdout",
     "output_type": "stream",
     "text": [
      "Python: 3.10.12 (main, Aug 15 2025, 14:32:43) [GCC 11.4.0]\n",
      "OS: Linux-6.6.87.2-microsoft-standard-WSL2-x86_64-with-glibc2.35\n",
      "TensorFlow: 2.17.0\n",
      "Num GPUs Available: 1\n"
     ]
    },
    {
     "name": "stderr",
     "output_type": "stream",
     "text": [
      "WARNING: All log messages before absl::InitializeLog() is called are written to STDERR\n",
      "I0000 00:00:1759517193.518446    8544 cuda_executor.cc:1001] could not open file to read NUMA node: /sys/bus/pci/devices/0000:01:00.0/numa_node\n",
      "Your kernel may have been built without NUMA support.\n",
      "I0000 00:00:1759517193.649252    8544 cuda_executor.cc:1001] could not open file to read NUMA node: /sys/bus/pci/devices/0000:01:00.0/numa_node\n",
      "Your kernel may have been built without NUMA support.\n",
      "I0000 00:00:1759517193.649400    8544 cuda_executor.cc:1001] could not open file to read NUMA node: /sys/bus/pci/devices/0000:01:00.0/numa_node\n",
      "Your kernel may have been built without NUMA support.\n"
     ]
    }
   ],
   "source": [
    "import sys, platform, os, warnings, random\n",
    "import numpy as np\n",
    "import pandas as pd\n",
    "import matplotlib.pyplot as plt\n",
    "\n",
    "import tensorflow as tf\n",
    "\n",
    "warnings.filterwarnings(\"ignore\")\n",
    "\n",
    "SEED = 42\n",
    "random.seed(SEED)\n",
    "np.random.seed(SEED)\n",
    "tf.random.set_seed(SEED)\n",
    "\n",
    "print(\"Python:\", sys.version)\n",
    "print(\"OS:\", platform.platform())\n",
    "print(\"TensorFlow:\", tf.__version__)\n",
    "print(\"Num GPUs Available:\", len(tf.config.list_physical_devices('GPU')))\n"
   ]
  },
  {
   "cell_type": "markdown",
   "id": "e86be9ef",
   "metadata": {},
   "source": [
    "# CC3045 — Laboratorio 8: Pronóstico de demanda con LSTM\n",
    "**Dataset**: Store Item Demand Forecasting (Kaggle)  \n",
    "**Objetivo**: Predecir 3 meses de ventas (multi-step) para 50 ítems en 10 tiendas.  \n",
    "**Entorno**: WSL + TensorFlow GPU.\n",
    "\n",
    "**Checklist del laboratorio**  \n",
    "1) Limpieza/transformación.  \n",
    "2) División temporal: train, validación y test (los últimos 3 meses son test).  \n",
    "3) Ventaneo (windowing) y generación de secuencias.  \n",
    "4) Modelo (LSTM) + early stopping.  \n",
    "5) Métricas (MAE, MSE, RMSE) en test.  \n",
    "6) Forecast 3 meses + visualizaciones.  \n",
    "\n"
   ]
  },
  {
   "cell_type": "markdown",
   "id": "000b5687-1f2a-4358-959c-331ccd2ef207",
   "metadata": {},
   "source": [
    "### 1. Imports, semillas y paths"
   ]
  },
  {
   "cell_type": "code",
   "execution_count": 2,
   "id": "81122f98-92fb-4615-b22f-8cbefb29c1b0",
   "metadata": {},
   "outputs": [
    {
     "name": "stderr",
     "output_type": "stream",
     "text": [
      "2025-10-03 12:52:24.586048: E external/local_xla/xla/stream_executor/cuda/cuda_fft.cc:485] Unable to register cuFFT factory: Attempting to register factory for plugin cuFFT when one has already been registered\n",
      "2025-10-03 12:52:24.774680: E external/local_xla/xla/stream_executor/cuda/cuda_dnn.cc:8454] Unable to register cuDNN factory: Attempting to register factory for plugin cuDNN when one has already been registered\n",
      "2025-10-03 12:52:24.829658: E external/local_xla/xla/stream_executor/cuda/cuda_blas.cc:1452] Unable to register cuBLAS factory: Attempting to register factory for plugin cuBLAS when one has already been registered\n",
      "2025-10-03 12:52:25.224252: I tensorflow/core/platform/cpu_feature_guard.cc:210] This TensorFlow binary is optimized to use available CPU instructions in performance-critical operations.\n",
      "To enable the following instructions: AVX2 FMA, in other operations, rebuild TensorFlow with the appropriate compiler flags.\n",
      "2025-10-03 12:52:27.792321: W tensorflow/compiler/tf2tensorrt/utils/py_utils.cc:38] TF-TRT Warning: Could not find TensorRT\n"
     ]
    },
    {
     "name": "stdout",
     "output_type": "stream",
     "text": [
      "Python: 3.10.12 (main, Aug 15 2025, 14:32:43) [GCC 11.4.0]\n",
      "TensorFlow: 2.17.0\n",
      "GPUs: [PhysicalDevice(name='/physical_device:GPU:0', device_type='GPU')]\n"
     ]
    },
    {
     "name": "stderr",
     "output_type": "stream",
     "text": [
      "WARNING: All log messages before absl::InitializeLog() is called are written to STDERR\n",
      "I0000 00:00:1759517551.452493    8655 cuda_executor.cc:1001] could not open file to read NUMA node: /sys/bus/pci/devices/0000:01:00.0/numa_node\n",
      "Your kernel may have been built without NUMA support.\n",
      "I0000 00:00:1759517551.947261    8655 cuda_executor.cc:1001] could not open file to read NUMA node: /sys/bus/pci/devices/0000:01:00.0/numa_node\n",
      "Your kernel may have been built without NUMA support.\n",
      "I0000 00:00:1759517551.947400    8655 cuda_executor.cc:1001] could not open file to read NUMA node: /sys/bus/pci/devices/0000:01:00.0/numa_node\n",
      "Your kernel may have been built without NUMA support.\n"
     ]
    }
   ],
   "source": [
    "import os, sys, warnings, random, math, gc\n",
    "import numpy as np\n",
    "import pandas as pd\n",
    "import matplotlib.pyplot as plt\n",
    "\n",
    "import tensorflow as tf\n",
    "from tensorflow import keras\n",
    "from tensorflow.keras import layers\n",
    "\n",
    "warnings.filterwarnings(\"ignore\")\n",
    "\n",
    "SEED = 42\n",
    "random.seed(SEED); np.random.seed(SEED); tf.random.set_seed(SEED)\n",
    "\n",
    "DATA_DIR = \"data\"\n",
    "TRAIN_FP = os.path.join(DATA_DIR, \"train.csv\")\n",
    "TEST_FP  = os.path.join(DATA_DIR, \"test.csv\")\n",
    "SUB_FP   = os.path.join(DATA_DIR, \"sample_submission.csv\")\n",
    "\n",
    "print(\"Python:\", sys.version)\n",
    "print(\"TensorFlow:\", tf.__version__)\n",
    "print(\"GPUs:\", tf.config.list_physical_devices(\"GPU\"))\n",
    "for p in [TRAIN_FP, TEST_FP, SUB_FP]:\n",
    "    assert os.path.exists(p), f\"Falta archivo: {p}\"\n"
   ]
  },
  {
   "cell_type": "markdown",
   "id": "dbcc465c-98d9-409a-b64e-bb4a5086eb14",
   "metadata": {},
   "source": [
    "### 2. Cargar y explorar"
   ]
  },
  {
   "cell_type": "code",
   "execution_count": 3,
   "id": "164a2d47-1d36-49ad-bc87-2b0044842b51",
   "metadata": {},
   "outputs": [
    {
     "name": "stdout",
     "output_type": "stream",
     "text": [
      "<class 'pandas.core.frame.DataFrame'>\n",
      "RangeIndex: 913000 entries, 0 to 912999\n",
      "Data columns (total 4 columns):\n",
      " #   Column  Non-Null Count   Dtype         \n",
      "---  ------  --------------   -----         \n",
      " 0   date    913000 non-null  datetime64[ns]\n",
      " 1   store   913000 non-null  int64         \n",
      " 2   item    913000 non-null  int64         \n",
      " 3   sales   913000 non-null  int64         \n",
      "dtypes: datetime64[ns](1), int64(3)\n",
      "memory usage: 27.9 MB\n"
     ]
    },
    {
     "data": {
      "text/html": [
       "<div>\n",
       "<style scoped>\n",
       "    .dataframe tbody tr th:only-of-type {\n",
       "        vertical-align: middle;\n",
       "    }\n",
       "\n",
       "    .dataframe tbody tr th {\n",
       "        vertical-align: top;\n",
       "    }\n",
       "\n",
       "    .dataframe thead th {\n",
       "        text-align: right;\n",
       "    }\n",
       "</style>\n",
       "<table border=\"1\" class=\"dataframe\">\n",
       "  <thead>\n",
       "    <tr style=\"text-align: right;\">\n",
       "      <th></th>\n",
       "      <th>date</th>\n",
       "      <th>store</th>\n",
       "      <th>item</th>\n",
       "      <th>sales</th>\n",
       "    </tr>\n",
       "  </thead>\n",
       "  <tbody>\n",
       "    <tr>\n",
       "      <th>0</th>\n",
       "      <td>2013-01-01</td>\n",
       "      <td>1</td>\n",
       "      <td>1</td>\n",
       "      <td>13</td>\n",
       "    </tr>\n",
       "    <tr>\n",
       "      <th>1</th>\n",
       "      <td>2013-01-02</td>\n",
       "      <td>1</td>\n",
       "      <td>1</td>\n",
       "      <td>11</td>\n",
       "    </tr>\n",
       "    <tr>\n",
       "      <th>2</th>\n",
       "      <td>2013-01-03</td>\n",
       "      <td>1</td>\n",
       "      <td>1</td>\n",
       "      <td>14</td>\n",
       "    </tr>\n",
       "    <tr>\n",
       "      <th>3</th>\n",
       "      <td>2013-01-04</td>\n",
       "      <td>1</td>\n",
       "      <td>1</td>\n",
       "      <td>13</td>\n",
       "    </tr>\n",
       "    <tr>\n",
       "      <th>4</th>\n",
       "      <td>2013-01-05</td>\n",
       "      <td>1</td>\n",
       "      <td>1</td>\n",
       "      <td>10</td>\n",
       "    </tr>\n",
       "  </tbody>\n",
       "</table>\n",
       "</div>"
      ],
      "text/plain": [
       "        date  store  item  sales\n",
       "0 2013-01-01      1     1     13\n",
       "1 2013-01-02      1     1     11\n",
       "2 2013-01-03      1     1     14\n",
       "3 2013-01-04      1     1     13\n",
       "4 2013-01-05      1     1     10"
      ]
     },
     "execution_count": 3,
     "metadata": {},
     "output_type": "execute_result"
    }
   ],
   "source": [
    "df = pd.read_csv(TRAIN_FP, parse_dates=[\"date\"])\n",
    "df = df.sort_values([\"store\",\"item\",\"date\"]).reset_index(drop=True)\n",
    "df.info()\n",
    "df.head()\n"
   ]
  },
  {
   "cell_type": "code",
   "execution_count": 4,
   "id": "2b6b8f31-536a-4993-99ee-44907df8fd1b",
   "metadata": {},
   "outputs": [
    {
     "name": "stdout",
     "output_type": "stream",
     "text": [
      "Nulos por columna:\n",
      " date     0\n",
      "store    0\n",
      "item     0\n",
      "sales    0\n",
      "dtype: int64\n",
      "Rango de fechas: 2013-01-01 00:00:00 → 2017-12-31 00:00:00\n",
      "Series: 500\n"
     ]
    }
   ],
   "source": [
    "# Chequeos básicos\n",
    "assert set([\"date\",\"store\",\"item\",\"sales\"]).issubset(df.columns)\n",
    "print(\"Nulos por columna:\\n\", df.isna().sum())\n",
    "print(\"Rango de fechas:\", df[\"date\"].min(), \"→\", df[\"date\"].max())\n",
    "print(\"Series:\", df[[\"store\",\"item\"]].drop_duplicates().shape[0])\n"
   ]
  },
  {
   "cell_type": "markdown",
   "id": "fa79ce07-ceb6-4470-a43e-0d8b2096327e",
   "metadata": {},
   "source": [
    "### 3. Limpieza mínima y transformación"
   ]
  },
  {
   "cell_type": "code",
   "execution_count": 5,
   "id": "e7cad14c-a42d-4356-a85f-39d7bf698348",
   "metadata": {},
   "outputs": [],
   "source": [
    "# Coerción y saneo mínimo\n",
    "df[\"sales\"] = pd.to_numeric(df[\"sales\"], errors=\"coerce\")\n",
    "df = df.dropna(subset=[\"sales\"])\n",
    "df[\"sales\"] = df[\"sales\"].astype(np.float32**División temporal (train/val/test)**  \n",
    "La consigna exige que el **test sean los 3 meses más recientes**. Se separa por fecha (time-based split). :contentReference[oaicite:9]{index=9}\n",
    "\n"
   ]
  },
  {
   "cell_type": "markdown",
   "id": "c10b113e-516c-4551-965d-2d1b6f014207",
   "metadata": {},
   "source": [
    "**División temporal (train/val/test)**  \n",
    "La consigna exige que el **test sean los 3 meses más recientes**. Se separa por fecha (time-based split)."
   ]
  },
  {
   "cell_type": "markdown",
   "id": "acbd331e-c2e4-4a36-b3f4-a68a4b1d50b9",
   "metadata": {},
   "source": [
    "### 4. Split por tiempo (últimos 90 días = test)"
   ]
  },
  {
   "cell_type": "code",
   "execution_count": 6,
   "id": "cd762452-0a89-4f97-86dd-b68e44dedaa4",
   "metadata": {},
   "outputs": [
    {
     "name": "stdout",
     "output_type": "stream",
     "text": [
      "2013-01-01 00:00:00 2017-09-02 00:00:00 -> TRAIN\n",
      "2017-09-03 00:00:00 2017-10-02 00:00:00 -> VAL\n",
      "2017-10-03 00:00:00 2017-12-31 00:00:00 -> TEST (90 días)\n"
     ]
    }
   ],
   "source": [
    "# Últimos 90 días como test\n",
    "PRED_STEPS = 90  # 3 meses aprox\n",
    "max_date = df[\"date\"].max()\n",
    "test_start = max_date - pd.Timedelta(days=PRED_STEPS-1)\n",
    "\n",
    "df_trainval = df[df[\"date\"] < test_start].copy()\n",
    "df_test     = df[df[\"date\"] >= test_start].copy()\n",
    "\n",
    "# Deja ~1 mes (30 días) para validación justo antes de test\n",
    "VAL_DAYS = 30\n",
    "val_start = test_start - pd.Timedelta(days=VAL_DAYS)\n",
    "\n",
    "df_train = df_trainval[df_trainval[\"date\"] < val_start].copy()\n",
    "df_val   = df_trainval[df_trainval[\"date\"] >= val_start].copy()\n",
    "\n",
    "print(df_train[\"date\"].min(), df_train[\"date\"].max(), \"-> TRAIN\")\n",
    "print(df_val[\"date\"].min(),   df_val[\"date\"].max(),   \"-> VAL\")\n",
    "print(df_test[\"date\"].min(),  df_test[\"date\"].max(),  \"-> TEST (90 días)\")\n"
   ]
  },
  {
   "cell_type": "markdown",
   "id": "608028af-14ef-4a16-8d5a-78044811c52e",
   "metadata": {},
   "source": [
    "**Estrategia de modelado**  \n",
    "Haremos un **modelo univariado por serie** (sales solamente), pero entrenado **de forma global** concatenando ventanas de todas las series (store-item). La red **LSTM** recibirá una ventana de longitud `WINDOW` y predecirá **los próximos 90 pasos (multi-step)** como vector. Esto satisface el requerimiento de “pronóstico de 3 meses”.\n"
   ]
  },
  {
   "cell_type": "markdown",
   "id": "fadb87cd-878e-41e7-bda0-331f0215920b",
   "metadata": {},
   "source": [
    "### 5. Escalado por serie (solo usando train)"
   ]
  },
  {
   "cell_type": "code",
   "execution_count": 13,
   "id": "70a7bd83-89ff-41c9-952d-d06bbd80674d",
   "metadata": {},
   "outputs": [],
   "source": [
    "# Escalado z-score PER SERIE usando solo TRAIN para evitar fugas de info\n",
    "from collections import defaultdict\n",
    "\n",
    "stats = {}  # (mu, sigma) por (store,item)\n",
    "\n",
    "def fit_stats(df_):\n",
    "    g = df_.groupby([\"store\",\"item\"])[\"sales\"]\n",
    "    mu = g.transform(\"mean\")\n",
    "    sd = g.transform(\"std\").replace(0, 1.0)  # evitar división por 0\n",
    "    return mu, sd\n",
    "\n",
    "# calculamos por serie con TRAIN\n",
    "for (s,i), g in df_train.groupby([\"store\",\"item\"]):\n",
    "    mu = g[\"sales\"].mean()\n",
    "    sd = g[\"sales\"].std()\n",
    "    if sd == 0 or np.isnan(sd): sd = 1.0\n",
    "    stats[(s,i)] = (float(mu), float(sd))\n",
    "\n",
    "def standardize(df_):\n",
    "    df_ = df_.copy()\n",
    "    mus = []; sds = []\n",
    "    for idx, row in df_[[\"store\",\"item\"]].iterrows():\n",
    "        mu, sd = stats.get((row[\"store\"], row[\"item\"]), (0.0, 1.0))\n",
    "        mus.append(mu); sds.append(sd)\n",
    "    df_[\"mu\"] = mus; df_[\"sd\"] = sds\n",
    "    df_[\"y\"] = (df_[\"sales\"] - df_[\"mu\"]) / df_[\"sd\"]\n",
    "    return df_\n",
    "\n",
    "df_train_s = standardize(df_train)\n",
    "df_val_s   = standardize(df_val)\n",
    "df_test_s  = standardize(df_test)\n"
   ]
  },
  {
   "cell_type": "markdown",
   "id": "5926702d-ee49-41bd-85ef-6fb164fe1ce5",
   "metadata": {},
   "source": [
    "### 6. Windowing (generación de secuencias)"
   ]
  },
  {
   "cell_type": "code",
   "execution_count": 14,
   "id": "4de1ebff-3d85-4a9f-8e8f-376fe6a5f388",
   "metadata": {},
   "outputs": [
    {
     "data": {
      "text/plain": [
       "((778500, 60), (778500, 90), (0, 60), (0, 90))"
      ]
     },
     "execution_count": 14,
     "metadata": {},
     "output_type": "execute_result"
    }
   ],
   "source": [
    "WINDOW = 60     # pasos de historia\n",
    "HORIZON = PRED_STEPS  # 90\n",
    "\n",
    "def make_windows_for_series(y, window, horizon):\n",
    "    Xs, Ys = [], []\n",
    "    for t in range(len(y) - window - horizon + 1):\n",
    "        Xs.append(y[t:t+window])\n",
    "        Ys.append(y[t+window:t+window+horizon])\n",
    "    if not Xs:\n",
    "        return np.empty((0, window), dtype=np.float32), np.empty((0, horizon), dtype=np.float32)\n",
    "    return np.stack(Xs).astype(np.float32), np.stack(Ys).astype(np.float32)\n",
    "\n",
    "def build_dataset(df_s, window=WINDOW, horizon=HORIZON):\n",
    "    X_list, Y_list = [], []\n",
    "    for (s,i), g in df_s.groupby([\"store\",\"item\"]):\n",
    "        y = g.sort_values(\"date\")[\"y\"].values\n",
    "        X, Y = make_windows_for_series(y, window, horizon)\n",
    "        if len(X):\n",
    "            X_list.append(X); Y_list.append(Y)\n",
    "    if not X_list:\n",
    "        return np.empty((0, window), np.float32), np.empty((0, horizon), np.float32)\n",
    "    X = np.concatenate(X_list, axis=0)\n",
    "    Y = np.concatenate(Y_list, axis=0)\n",
    "    return X, Y\n",
    "\n",
    "X_train, y_train = build_dataset(df_train_s)\n",
    "X_val,   y_val   = build_dataset(df_val_s)\n",
    "\n",
    "X_train.shape, y_train.shape, X_val.shape, y_val.shape\n"
   ]
  },
  {
   "cell_type": "code",
   "execution_count": 15,
   "id": "9ca60bd8-c59d-4496-95e9-1ef0db3744d4",
   "metadata": {},
   "outputs": [
    {
     "data": {
      "text/plain": [
       "((778500, 60, 1), (0, 60, 1))"
      ]
     },
     "execution_count": 15,
     "metadata": {},
     "output_type": "execute_result"
    }
   ],
   "source": [
    "X_train = X_train[..., None]\n",
    "X_val   = X_val[..., None]\n",
    "\n",
    "X_train.shape, X_val.shape"
   ]
  },
  {
   "cell_type": "markdown",
   "id": "e9a5bbbe-8d96-4120-92f5-eb25789b8770",
   "metadata": {},
   "source": [
    "### 7. Modelo LSTM + early stopping"
   ]
  },
  {
   "cell_type": "code",
   "execution_count": 19,
   "id": "819ba7f6-9050-4ddc-8325-45e2b0c6b48d",
   "metadata": {},
   "outputs": [
    {
     "data": {
      "text/html": [
       "<pre style=\"white-space:pre;overflow-x:auto;line-height:normal;font-family:Menlo,'DejaVu Sans Mono',consolas,'Courier New',monospace\"><span style=\"font-weight: bold\">Model: \"functional\"</span>\n",
       "</pre>\n"
      ],
      "text/plain": [
       "\u001b[1mModel: \"functional\"\u001b[0m\n"
      ]
     },
     "metadata": {},
     "output_type": "display_data"
    },
    {
     "data": {
      "text/html": [
       "<pre style=\"white-space:pre;overflow-x:auto;line-height:normal;font-family:Menlo,'DejaVu Sans Mono',consolas,'Courier New',monospace\">┏━━━━━━━━━━━━━━━━━━━━━━━━━━━━━━━━━┳━━━━━━━━━━━━━━━━━━━━━━━━┳━━━━━━━━━━━━━━━┓\n",
       "┃<span style=\"font-weight: bold\"> Layer (type)                    </span>┃<span style=\"font-weight: bold\"> Output Shape           </span>┃<span style=\"font-weight: bold\">       Param # </span>┃\n",
       "┡━━━━━━━━━━━━━━━━━━━━━━━━━━━━━━━━━╇━━━━━━━━━━━━━━━━━━━━━━━━╇━━━━━━━━━━━━━━━┩\n",
       "│ input_layer (<span style=\"color: #0087ff; text-decoration-color: #0087ff\">InputLayer</span>)        │ (<span style=\"color: #00d7ff; text-decoration-color: #00d7ff\">None</span>, <span style=\"color: #00af00; text-decoration-color: #00af00\">60</span>, <span style=\"color: #00af00; text-decoration-color: #00af00\">1</span>)          │             <span style=\"color: #00af00; text-decoration-color: #00af00\">0</span> │\n",
       "├─────────────────────────────────┼────────────────────────┼───────────────┤\n",
       "│ lstm (<span style=\"color: #0087ff; text-decoration-color: #0087ff\">LSTM</span>)                     │ (<span style=\"color: #00d7ff; text-decoration-color: #00d7ff\">None</span>, <span style=\"color: #00af00; text-decoration-color: #00af00\">60</span>, <span style=\"color: #00af00; text-decoration-color: #00af00\">128</span>)        │        <span style=\"color: #00af00; text-decoration-color: #00af00\">66,560</span> │\n",
       "├─────────────────────────────────┼────────────────────────┼───────────────┤\n",
       "│ dropout (<span style=\"color: #0087ff; text-decoration-color: #0087ff\">Dropout</span>)               │ (<span style=\"color: #00d7ff; text-decoration-color: #00d7ff\">None</span>, <span style=\"color: #00af00; text-decoration-color: #00af00\">60</span>, <span style=\"color: #00af00; text-decoration-color: #00af00\">128</span>)        │             <span style=\"color: #00af00; text-decoration-color: #00af00\">0</span> │\n",
       "├─────────────────────────────────┼────────────────────────┼───────────────┤\n",
       "│ lstm_1 (<span style=\"color: #0087ff; text-decoration-color: #0087ff\">LSTM</span>)                   │ (<span style=\"color: #00d7ff; text-decoration-color: #00d7ff\">None</span>, <span style=\"color: #00af00; text-decoration-color: #00af00\">64</span>)             │        <span style=\"color: #00af00; text-decoration-color: #00af00\">49,408</span> │\n",
       "├─────────────────────────────────┼────────────────────────┼───────────────┤\n",
       "│ dropout_1 (<span style=\"color: #0087ff; text-decoration-color: #0087ff\">Dropout</span>)             │ (<span style=\"color: #00d7ff; text-decoration-color: #00d7ff\">None</span>, <span style=\"color: #00af00; text-decoration-color: #00af00\">64</span>)             │             <span style=\"color: #00af00; text-decoration-color: #00af00\">0</span> │\n",
       "├─────────────────────────────────┼────────────────────────┼───────────────┤\n",
       "│ dense (<span style=\"color: #0087ff; text-decoration-color: #0087ff\">Dense</span>)                   │ (<span style=\"color: #00d7ff; text-decoration-color: #00d7ff\">None</span>, <span style=\"color: #00af00; text-decoration-color: #00af00\">90</span>)             │         <span style=\"color: #00af00; text-decoration-color: #00af00\">5,850</span> │\n",
       "└─────────────────────────────────┴────────────────────────┴───────────────┘\n",
       "</pre>\n"
      ],
      "text/plain": [
       "┏━━━━━━━━━━━━━━━━━━━━━━━━━━━━━━━━━┳━━━━━━━━━━━━━━━━━━━━━━━━┳━━━━━━━━━━━━━━━┓\n",
       "┃\u001b[1m \u001b[0m\u001b[1mLayer (type)                   \u001b[0m\u001b[1m \u001b[0m┃\u001b[1m \u001b[0m\u001b[1mOutput Shape          \u001b[0m\u001b[1m \u001b[0m┃\u001b[1m \u001b[0m\u001b[1m      Param #\u001b[0m\u001b[1m \u001b[0m┃\n",
       "┡━━━━━━━━━━━━━━━━━━━━━━━━━━━━━━━━━╇━━━━━━━━━━━━━━━━━━━━━━━━╇━━━━━━━━━━━━━━━┩\n",
       "│ input_layer (\u001b[38;5;33mInputLayer\u001b[0m)        │ (\u001b[38;5;45mNone\u001b[0m, \u001b[38;5;34m60\u001b[0m, \u001b[38;5;34m1\u001b[0m)          │             \u001b[38;5;34m0\u001b[0m │\n",
       "├─────────────────────────────────┼────────────────────────┼───────────────┤\n",
       "│ lstm (\u001b[38;5;33mLSTM\u001b[0m)                     │ (\u001b[38;5;45mNone\u001b[0m, \u001b[38;5;34m60\u001b[0m, \u001b[38;5;34m128\u001b[0m)        │        \u001b[38;5;34m66,560\u001b[0m │\n",
       "├─────────────────────────────────┼────────────────────────┼───────────────┤\n",
       "│ dropout (\u001b[38;5;33mDropout\u001b[0m)               │ (\u001b[38;5;45mNone\u001b[0m, \u001b[38;5;34m60\u001b[0m, \u001b[38;5;34m128\u001b[0m)        │             \u001b[38;5;34m0\u001b[0m │\n",
       "├─────────────────────────────────┼────────────────────────┼───────────────┤\n",
       "│ lstm_1 (\u001b[38;5;33mLSTM\u001b[0m)                   │ (\u001b[38;5;45mNone\u001b[0m, \u001b[38;5;34m64\u001b[0m)             │        \u001b[38;5;34m49,408\u001b[0m │\n",
       "├─────────────────────────────────┼────────────────────────┼───────────────┤\n",
       "│ dropout_1 (\u001b[38;5;33mDropout\u001b[0m)             │ (\u001b[38;5;45mNone\u001b[0m, \u001b[38;5;34m64\u001b[0m)             │             \u001b[38;5;34m0\u001b[0m │\n",
       "├─────────────────────────────────┼────────────────────────┼───────────────┤\n",
       "│ dense (\u001b[38;5;33mDense\u001b[0m)                   │ (\u001b[38;5;45mNone\u001b[0m, \u001b[38;5;34m90\u001b[0m)             │         \u001b[38;5;34m5,850\u001b[0m │\n",
       "└─────────────────────────────────┴────────────────────────┴───────────────┘\n"
      ]
     },
     "metadata": {},
     "output_type": "display_data"
    },
    {
     "data": {
      "text/html": [
       "<pre style=\"white-space:pre;overflow-x:auto;line-height:normal;font-family:Menlo,'DejaVu Sans Mono',consolas,'Courier New',monospace\"><span style=\"font-weight: bold\"> Total params: </span><span style=\"color: #00af00; text-decoration-color: #00af00\">121,818</span> (475.85 KB)\n",
       "</pre>\n"
      ],
      "text/plain": [
       "\u001b[1m Total params: \u001b[0m\u001b[38;5;34m121,818\u001b[0m (475.85 KB)\n"
      ]
     },
     "metadata": {},
     "output_type": "display_data"
    },
    {
     "data": {
      "text/html": [
       "<pre style=\"white-space:pre;overflow-x:auto;line-height:normal;font-family:Menlo,'DejaVu Sans Mono',consolas,'Courier New',monospace\"><span style=\"font-weight: bold\"> Trainable params: </span><span style=\"color: #00af00; text-decoration-color: #00af00\">121,818</span> (475.85 KB)\n",
       "</pre>\n"
      ],
      "text/plain": [
       "\u001b[1m Trainable params: \u001b[0m\u001b[38;5;34m121,818\u001b[0m (475.85 KB)\n"
      ]
     },
     "metadata": {},
     "output_type": "display_data"
    },
    {
     "data": {
      "text/html": [
       "<pre style=\"white-space:pre;overflow-x:auto;line-height:normal;font-family:Menlo,'DejaVu Sans Mono',consolas,'Courier New',monospace\"><span style=\"font-weight: bold\"> Non-trainable params: </span><span style=\"color: #00af00; text-decoration-color: #00af00\">0</span> (0.00 B)\n",
       "</pre>\n"
      ],
      "text/plain": [
       "\u001b[1m Non-trainable params: \u001b[0m\u001b[38;5;34m0\u001b[0m (0.00 B)\n"
      ]
     },
     "metadata": {},
     "output_type": "display_data"
    }
   ],
   "source": [
    "tf.keras.backend.clear_session()\n",
    "inputs = keras.Input(shape=(WINDOW,1))\n",
    "x = layers.LSTM(128, return_sequences=True)(inputs)\n",
    "x = layers.Dropout(0.2)(x)\n",
    "x = layers.LSTM(64)(x)\n",
    "x = layers.Dropout(0.2)(x)\n",
    "outputs = layers.Dense(HORIZON)(x)\n",
    "\n",
    "model = keras.Model(inputs, outputs)\n",
    "model.compile(\n",
    "    optimizer=keras.optimizers.Adam(learning_rate=1e-3),\n",
    "    loss=\"mse\",\n",
    "    metrics=[keras.metrics.MeanAbsoluteError(name=\"mae\")]\n",
    ")\n",
    "model.summary()\n"
   ]
  },
  {
   "cell_type": "code",
   "execution_count": 20,
   "id": "71b9c824-0123-45c4-92b3-0ab9b5640ac3",
   "metadata": {},
   "outputs": [
    {
     "name": "stdout",
     "output_type": "stream",
     "text": [
      "Epoch 1/50\n"
     ]
    },
    {
     "name": "stderr",
     "output_type": "stream",
     "text": [
      "2025-10-03 13:15:27.264211: I external/local_xla/xla/stream_executor/cuda/cuda_dnn.cc:531] Loaded cuDNN version 8907\n"
     ]
    },
    {
     "name": "stdout",
     "output_type": "stream",
     "text": [
      "\u001b[1m3042/3042\u001b[0m \u001b[32m━━━━━━━━━━━━━━━━━━━━\u001b[0m\u001b[37m\u001b[0m \u001b[1m143s\u001b[0m 45ms/step - loss: 0.4681 - mae: 0.5348\n",
      "Epoch 2/50\n",
      "\u001b[1m   2/3042\u001b[0m \u001b[37m━━━━━━━━━━━━━━━━━━━━\u001b[0m \u001b[1m2:52\u001b[0m 57ms/step - loss: 0.4216 - mae: 0.5069 "
     ]
    },
    {
     "name": "stderr",
     "output_type": "stream",
     "text": [
      "2025-10-03 13:17:46.748596: I tensorflow/core/framework/local_rendezvous.cc:404] Local rendezvous is aborting with status: OUT_OF_RANGE: End of sequence\n",
      "\t [[{{node IteratorGetNext}}]]\n",
      "2025-10-03 13:17:46.752512: I tensorflow/core/framework/local_rendezvous.cc:404] Local rendezvous is aborting with status: OUT_OF_RANGE: End of sequence\n",
      "\t [[{{node IteratorGetNext}}]]\n",
      "\t [[IteratorGetNext/_2]]\n"
     ]
    },
    {
     "name": "stdout",
     "output_type": "stream",
     "text": [
      "\u001b[1m3042/3042\u001b[0m \u001b[32m━━━━━━━━━━━━━━━━━━━━\u001b[0m\u001b[37m\u001b[0m \u001b[1m85s\u001b[0m 28ms/step - loss: 0.4006 - mae: 0.4933\n",
      "Epoch 3/50\n",
      "\u001b[1m   1/3042\u001b[0m \u001b[37m━━━━━━━━━━━━━━━━━━━━\u001b[0m \u001b[1m8:37\u001b[0m 170ms/step - loss: 0.4037 - mae: 0.4972"
     ]
    },
    {
     "name": "stderr",
     "output_type": "stream",
     "text": [
      "2025-10-03 13:19:11.454744: I tensorflow/core/framework/local_rendezvous.cc:404] Local rendezvous is aborting with status: OUT_OF_RANGE: End of sequence\n",
      "\t [[{{node IteratorGetNext}}]]\n",
      "\t [[IteratorGetNext/_2]]\n",
      "2025-10-03 13:19:11.454839: I tensorflow/core/framework/local_rendezvous.cc:423] Local rendezvous recv item cancelled. Key hash: 13790152310584425475\n",
      "2025-10-03 13:19:11.454906: I tensorflow/core/framework/local_rendezvous.cc:423] Local rendezvous recv item cancelled. Key hash: 1974679821479223136\n"
     ]
    },
    {
     "name": "stdout",
     "output_type": "stream",
     "text": [
      "\u001b[1m3042/3042\u001b[0m \u001b[32m━━━━━━━━━━━━━━━━━━━━\u001b[0m\u001b[37m\u001b[0m \u001b[1m107s\u001b[0m 35ms/step - loss: 0.3945 - mae: 0.4892\n",
      "Epoch 4/50\n",
      "\u001b[1m   3/3042\u001b[0m \u001b[37m━━━━━━━━━━━━━━━━━━━━\u001b[0m \u001b[1m1:38\u001b[0m 32ms/step - loss: 0.4128 - mae: 0.5006 "
     ]
    },
    {
     "name": "stderr",
     "output_type": "stream",
     "text": [
      "2025-10-03 13:20:58.778857: I tensorflow/core/framework/local_rendezvous.cc:423] Local rendezvous recv item cancelled. Key hash: 13790152310584425475\n",
      "2025-10-03 13:20:58.778976: I tensorflow/core/framework/local_rendezvous.cc:423] Local rendezvous recv item cancelled. Key hash: 1974679821479223136\n"
     ]
    },
    {
     "name": "stdout",
     "output_type": "stream",
     "text": [
      "\u001b[1m3042/3042\u001b[0m \u001b[32m━━━━━━━━━━━━━━━━━━━━\u001b[0m\u001b[37m\u001b[0m \u001b[1m107s\u001b[0m 35ms/step - loss: 0.3925 - mae: 0.4877\n",
      "Epoch 5/50\n",
      "\u001b[1m   3/3042\u001b[0m \u001b[37m━━━━━━━━━━━━━━━━━━━━\u001b[0m \u001b[1m1:35\u001b[0m 32ms/step - loss: 0.4043 - mae: 0.4952 "
     ]
    },
    {
     "name": "stderr",
     "output_type": "stream",
     "text": [
      "2025-10-03 13:22:46.123961: I tensorflow/core/framework/local_rendezvous.cc:404] Local rendezvous is aborting with status: OUT_OF_RANGE: End of sequence\n",
      "\t [[{{node IteratorGetNext}}]]\n",
      "\t [[IteratorGetNext/_2]]\n",
      "2025-10-03 13:22:46.124048: I tensorflow/core/framework/local_rendezvous.cc:423] Local rendezvous recv item cancelled. Key hash: 13790152310584425475\n",
      "2025-10-03 13:22:46.124070: I tensorflow/core/framework/local_rendezvous.cc:423] Local rendezvous recv item cancelled. Key hash: 1974679821479223136\n"
     ]
    },
    {
     "name": "stdout",
     "output_type": "stream",
     "text": [
      "\u001b[1m3042/3042\u001b[0m \u001b[32m━━━━━━━━━━━━━━━━━━━━\u001b[0m\u001b[37m\u001b[0m \u001b[1m104s\u001b[0m 34ms/step - loss: 0.3890 - mae: 0.4854\n",
      "Epoch 6/50\n",
      "\u001b[1m   2/3042\u001b[0m \u001b[37m━━━━━━━━━━━━━━━━━━━━\u001b[0m \u001b[1m22:19:26\u001b[0m 26s/step - loss: 0.4022 - mae: 0.4955"
     ]
    },
    {
     "name": "stderr",
     "output_type": "stream",
     "text": [
      "2025-10-03 13:24:30.589066: I tensorflow/core/framework/local_rendezvous.cc:423] Local rendezvous recv item cancelled. Key hash: 13790152310584425475\n",
      "2025-10-03 13:24:30.589258: I tensorflow/core/framework/local_rendezvous.cc:423] Local rendezvous recv item cancelled. Key hash: 1974679821479223136\n"
     ]
    },
    {
     "name": "stdout",
     "output_type": "stream",
     "text": [
      "\u001b[1m3042/3042\u001b[0m \u001b[32m━━━━━━━━━━━━━━━━━━━━\u001b[0m\u001b[37m\u001b[0m \u001b[1m105s\u001b[0m 34ms/step - loss: 0.3863 - mae: 0.4837\n",
      "Epoch 7/50\n",
      "\u001b[1m   3/3042\u001b[0m \u001b[37m━━━━━━━━━━━━━━━━━━━━\u001b[0m \u001b[1m1:28\u001b[0m 29ms/step - loss: 0.3971 - mae: 0.4919 "
     ]
    },
    {
     "name": "stderr",
     "output_type": "stream",
     "text": [
      "2025-10-03 13:26:15.377826: I tensorflow/core/framework/local_rendezvous.cc:423] Local rendezvous recv item cancelled. Key hash: 13790152310584425475\n",
      "2025-10-03 13:26:15.377947: I tensorflow/core/framework/local_rendezvous.cc:423] Local rendezvous recv item cancelled. Key hash: 1974679821479223136\n"
     ]
    },
    {
     "name": "stdout",
     "output_type": "stream",
     "text": [
      "\u001b[1m3042/3042\u001b[0m \u001b[32m━━━━━━━━━━━━━━━━━━━━\u001b[0m\u001b[37m\u001b[0m \u001b[1m108s\u001b[0m 36ms/step - loss: 0.3837 - mae: 0.4820\n",
      "Epoch 8/50\n",
      "\u001b[1m   3/3042\u001b[0m \u001b[37m━━━━━━━━━━━━━━━━━━━━\u001b[0m \u001b[1m1:44\u001b[0m 34ms/step - loss: 0.3947 - mae: 0.4904"
     ]
    },
    {
     "name": "stderr",
     "output_type": "stream",
     "text": [
      "2025-10-03 13:28:03.623973: I tensorflow/core/framework/local_rendezvous.cc:423] Local rendezvous recv item cancelled. Key hash: 13790152310584425475\n",
      "2025-10-03 13:28:03.624089: I tensorflow/core/framework/local_rendezvous.cc:423] Local rendezvous recv item cancelled. Key hash: 1974679821479223136\n"
     ]
    },
    {
     "name": "stdout",
     "output_type": "stream",
     "text": [
      "\u001b[1m3042/3042\u001b[0m \u001b[32m━━━━━━━━━━━━━━━━━━━━\u001b[0m\u001b[37m\u001b[0m \u001b[1m109s\u001b[0m 36ms/step - loss: 0.3795 - mae: 0.4796\n",
      "Epoch 9/50\n",
      "\u001b[1m   1/3042\u001b[0m \u001b[37m━━━━━━━━━━━━━━━━━━━━\u001b[0m \u001b[1m4:36\u001b[0m 91ms/step - loss: 0.3853 - mae: 0.4859"
     ]
    },
    {
     "name": "stderr",
     "output_type": "stream",
     "text": [
      "2025-10-03 13:29:52.553821: I tensorflow/core/framework/local_rendezvous.cc:404] Local rendezvous is aborting with status: OUT_OF_RANGE: End of sequence\n",
      "\t [[{{node IteratorGetNext}}]]\n",
      "\t [[IteratorGetNext/_2]]\n",
      "2025-10-03 13:29:52.553910: I tensorflow/core/framework/local_rendezvous.cc:423] Local rendezvous recv item cancelled. Key hash: 13790152310584425475\n",
      "2025-10-03 13:29:52.553979: I tensorflow/core/framework/local_rendezvous.cc:423] Local rendezvous recv item cancelled. Key hash: 1974679821479223136\n"
     ]
    },
    {
     "name": "stdout",
     "output_type": "stream",
     "text": [
      "\u001b[1m3042/3042\u001b[0m \u001b[32m━━━━━━━━━━━━━━━━━━━━\u001b[0m\u001b[37m\u001b[0m \u001b[1m110s\u001b[0m 36ms/step - loss: 0.3755 - mae: 0.4772\n",
      "Epoch 10/50\n",
      "\u001b[1m   3/3042\u001b[0m \u001b[37m━━━━━━━━━━━━━━━━━━━━\u001b[0m \u001b[1m1:25\u001b[0m 28ms/step - loss: 0.3834 - mae: 0.4831"
     ]
    },
    {
     "name": "stderr",
     "output_type": "stream",
     "text": [
      "2025-10-03 13:31:42.821039: I tensorflow/core/framework/local_rendezvous.cc:423] Local rendezvous recv item cancelled. Key hash: 13790152310584425475\n",
      "2025-10-03 13:31:42.821157: I tensorflow/core/framework/local_rendezvous.cc:423] Local rendezvous recv item cancelled. Key hash: 1974679821479223136\n"
     ]
    },
    {
     "name": "stdout",
     "output_type": "stream",
     "text": [
      "\u001b[1m3042/3042\u001b[0m \u001b[32m━━━━━━━━━━━━━━━━━━━━\u001b[0m\u001b[37m\u001b[0m \u001b[1m109s\u001b[0m 36ms/step - loss: 0.3709 - mae: 0.4745\n",
      "Epoch 11/50\n",
      "\u001b[1m   3/3042\u001b[0m \u001b[37m━━━━━━━━━━━━━━━━━━━━\u001b[0m \u001b[1m1:42\u001b[0m 34ms/step - loss: 0.3803 - mae: 0.4822"
     ]
    },
    {
     "name": "stderr",
     "output_type": "stream",
     "text": [
      "2025-10-03 13:33:32.305265: I tensorflow/core/framework/local_rendezvous.cc:423] Local rendezvous recv item cancelled. Key hash: 13790152310584425475\n",
      "2025-10-03 13:33:32.305384: I tensorflow/core/framework/local_rendezvous.cc:423] Local rendezvous recv item cancelled. Key hash: 1974679821479223136\n"
     ]
    },
    {
     "name": "stdout",
     "output_type": "stream",
     "text": [
      "\u001b[1m3042/3042\u001b[0m \u001b[32m━━━━━━━━━━━━━━━━━━━━\u001b[0m\u001b[37m\u001b[0m \u001b[1m111s\u001b[0m 36ms/step - loss: 0.3666 - mae: 0.4720\n",
      "Epoch 12/50\n",
      "\u001b[1m   3/3042\u001b[0m \u001b[37m━━━━━━━━━━━━━━━━━━━━\u001b[0m \u001b[1m1:32\u001b[0m 30ms/step - loss: 0.3714 - mae: 0.4767"
     ]
    },
    {
     "name": "stderr",
     "output_type": "stream",
     "text": [
      "2025-10-03 13:35:22.867836: I tensorflow/core/framework/local_rendezvous.cc:423] Local rendezvous recv item cancelled. Key hash: 13790152310584425475\n",
      "2025-10-03 13:35:22.867921: I tensorflow/core/framework/local_rendezvous.cc:423] Local rendezvous recv item cancelled. Key hash: 1974679821479223136\n"
     ]
    },
    {
     "name": "stdout",
     "output_type": "stream",
     "text": [
      "\u001b[1m3042/3042\u001b[0m \u001b[32m━━━━━━━━━━━━━━━━━━━━\u001b[0m\u001b[37m\u001b[0m \u001b[1m111s\u001b[0m 36ms/step - loss: 0.3612 - mae: 0.4689\n",
      "Epoch 13/50\n",
      "\u001b[1m   3/3042\u001b[0m \u001b[37m━━━━━━━━━━━━━━━━━━━━\u001b[0m \u001b[1m1:35\u001b[0m 31ms/step - loss: 0.3726 - mae: 0.4781 "
     ]
    },
    {
     "name": "stderr",
     "output_type": "stream",
     "text": [
      "2025-10-03 13:37:13.540002: I tensorflow/core/framework/local_rendezvous.cc:423] Local rendezvous recv item cancelled. Key hash: 13790152310584425475\n",
      "2025-10-03 13:37:13.540148: I tensorflow/core/framework/local_rendezvous.cc:423] Local rendezvous recv item cancelled. Key hash: 1974679821479223136\n"
     ]
    },
    {
     "name": "stdout",
     "output_type": "stream",
     "text": [
      "\u001b[1m3042/3042\u001b[0m \u001b[32m━━━━━━━━━━━━━━━━━━━━\u001b[0m\u001b[37m\u001b[0m \u001b[1m106s\u001b[0m 35ms/step - loss: 0.3565 - mae: 0.4661\n",
      "Epoch 14/50\n",
      "\u001b[1m   1/3042\u001b[0m \u001b[37m━━━━━━━━━━━━━━━━━━━━\u001b[0m \u001b[1m6:33\u001b[0m 129ms/step - loss: 0.3632 - mae: 0.4730"
     ]
    },
    {
     "name": "stderr",
     "output_type": "stream",
     "text": [
      "2025-10-03 13:38:59.778571: I tensorflow/core/framework/local_rendezvous.cc:423] Local rendezvous recv item cancelled. Key hash: 13790152310584425475\n",
      "2025-10-03 13:38:59.778663: I tensorflow/core/framework/local_rendezvous.cc:423] Local rendezvous recv item cancelled. Key hash: 1974679821479223136\n"
     ]
    },
    {
     "name": "stdout",
     "output_type": "stream",
     "text": [
      "\u001b[1m3042/3042\u001b[0m \u001b[32m━━━━━━━━━━━━━━━━━━━━\u001b[0m\u001b[37m\u001b[0m \u001b[1m109s\u001b[0m 36ms/step - loss: 0.3521 - mae: 0.4634\n",
      "Epoch 15/50\n",
      "\u001b[1m   3/3042\u001b[0m \u001b[37m━━━━━━━━━━━━━━━━━━━━\u001b[0m \u001b[1m1:34\u001b[0m 31ms/step - loss: 0.3652 - mae: 0.4730"
     ]
    },
    {
     "name": "stderr",
     "output_type": "stream",
     "text": [
      "2025-10-03 13:40:48.844434: I tensorflow/core/framework/local_rendezvous.cc:423] Local rendezvous recv item cancelled. Key hash: 13790152310584425475\n",
      "2025-10-03 13:40:48.844640: I tensorflow/core/framework/local_rendezvous.cc:423] Local rendezvous recv item cancelled. Key hash: 1974679821479223136\n"
     ]
    },
    {
     "name": "stdout",
     "output_type": "stream",
     "text": [
      "\u001b[1m3042/3042\u001b[0m \u001b[32m━━━━━━━━━━━━━━━━━━━━\u001b[0m\u001b[37m\u001b[0m \u001b[1m106s\u001b[0m 35ms/step - loss: 0.3487 - mae: 0.4613\n",
      "Epoch 16/50\n",
      "\u001b[1m   1/3042\u001b[0m \u001b[37m━━━━━━━━━━━━━━━━━━━━\u001b[0m \u001b[1m7:57\u001b[0m 157ms/step - loss: 0.3473 - mae: 0.4628"
     ]
    },
    {
     "name": "stderr",
     "output_type": "stream",
     "text": [
      "2025-10-03 13:42:35.141034: I tensorflow/core/framework/local_rendezvous.cc:423] Local rendezvous recv item cancelled. Key hash: 13790152310584425475\n",
      "2025-10-03 13:42:35.141125: I tensorflow/core/framework/local_rendezvous.cc:423] Local rendezvous recv item cancelled. Key hash: 1974679821479223136\n"
     ]
    },
    {
     "name": "stdout",
     "output_type": "stream",
     "text": [
      "\u001b[1m3042/3042\u001b[0m \u001b[32m━━━━━━━━━━━━━━━━━━━━\u001b[0m\u001b[37m\u001b[0m \u001b[1m110s\u001b[0m 36ms/step - loss: 0.3452 - mae: 0.4592\n",
      "Epoch 17/50\n",
      "\u001b[1m   1/3042\u001b[0m \u001b[37m━━━━━━━━━━━━━━━━━━━━\u001b[0m \u001b[1m4:59\u001b[0m 99ms/step - loss: 0.3471 - mae: 0.4626"
     ]
    },
    {
     "name": "stderr",
     "output_type": "stream",
     "text": [
      "2025-10-03 13:44:25.504276: I tensorflow/core/framework/local_rendezvous.cc:404] Local rendezvous is aborting with status: OUT_OF_RANGE: End of sequence\n",
      "\t [[{{node IteratorGetNext}}]]\n",
      "\t [[IteratorGetNext/_2]]\n",
      "2025-10-03 13:44:25.504370: I tensorflow/core/framework/local_rendezvous.cc:423] Local rendezvous recv item cancelled. Key hash: 13790152310584425475\n",
      "2025-10-03 13:44:25.504393: I tensorflow/core/framework/local_rendezvous.cc:423] Local rendezvous recv item cancelled. Key hash: 1974679821479223136\n"
     ]
    },
    {
     "name": "stdout",
     "output_type": "stream",
     "text": [
      "\u001b[1m3042/3042\u001b[0m \u001b[32m━━━━━━━━━━━━━━━━━━━━\u001b[0m\u001b[37m\u001b[0m \u001b[1m133s\u001b[0m 44ms/step - loss: 0.3424 - mae: 0.4575\n",
      "Epoch 18/50\n",
      "\u001b[1m   3/3042\u001b[0m \u001b[37m━━━━━━━━━━━━━━━━━━━━\u001b[0m \u001b[1m1:31\u001b[0m 30ms/step - loss: 0.3426 - mae: 0.4592"
     ]
    },
    {
     "name": "stderr",
     "output_type": "stream",
     "text": [
      "2025-10-03 13:46:38.743945: I tensorflow/core/framework/local_rendezvous.cc:423] Local rendezvous recv item cancelled. Key hash: 13790152310584425475\n",
      "2025-10-03 13:46:38.744066: I tensorflow/core/framework/local_rendezvous.cc:423] Local rendezvous recv item cancelled. Key hash: 1974679821479223136\n"
     ]
    },
    {
     "name": "stdout",
     "output_type": "stream",
     "text": [
      "\u001b[1m3042/3042\u001b[0m \u001b[32m━━━━━━━━━━━━━━━━━━━━\u001b[0m\u001b[37m\u001b[0m \u001b[1m80s\u001b[0m 26ms/step - loss: 0.3396 - mae: 0.4557\n",
      "Epoch 19/50\n",
      "\u001b[1m   1/3042\u001b[0m \u001b[37m━━━━━━━━━━━━━━━━━━━━\u001b[0m \u001b[1m6:12\u001b[0m 122ms/step - loss: 0.3528 - mae: 0.4663"
     ]
    },
    {
     "name": "stderr",
     "output_type": "stream",
     "text": [
      "2025-10-03 13:47:59.071171: I tensorflow/core/framework/local_rendezvous.cc:423] Local rendezvous recv item cancelled. Key hash: 13790152310584425475\n",
      "2025-10-03 13:47:59.071291: I tensorflow/core/framework/local_rendezvous.cc:423] Local rendezvous recv item cancelled. Key hash: 1974679821479223136\n"
     ]
    },
    {
     "name": "stdout",
     "output_type": "stream",
     "text": [
      "\u001b[1m3042/3042\u001b[0m \u001b[32m━━━━━━━━━━━━━━━━━━━━\u001b[0m\u001b[37m\u001b[0m \u001b[1m106s\u001b[0m 35ms/step - loss: 0.3379 - mae: 0.4546\n",
      "Epoch 20/50\n",
      "\u001b[1m   3/3042\u001b[0m \u001b[37m━━━━━━━━━━━━━━━━━━━━\u001b[0m \u001b[1m1:41\u001b[0m 33ms/step - loss: 0.3393 - mae: 0.4572"
     ]
    },
    {
     "name": "stderr",
     "output_type": "stream",
     "text": [
      "2025-10-03 13:49:45.454483: I tensorflow/core/framework/local_rendezvous.cc:423] Local rendezvous recv item cancelled. Key hash: 13790152310584425475\n",
      "2025-10-03 13:49:45.454622: I tensorflow/core/framework/local_rendezvous.cc:423] Local rendezvous recv item cancelled. Key hash: 1974679821479223136\n"
     ]
    },
    {
     "name": "stdout",
     "output_type": "stream",
     "text": [
      "\u001b[1m3042/3042\u001b[0m \u001b[32m━━━━━━━━━━━━━━━━━━━━\u001b[0m\u001b[37m\u001b[0m \u001b[1m108s\u001b[0m 35ms/step - loss: 0.3360 - mae: 0.4534\n",
      "Epoch 21/50\n",
      "\u001b[1m   1/3042\u001b[0m \u001b[37m━━━━━━━━━━━━━━━━━━━━\u001b[0m \u001b[1m5:23\u001b[0m 106ms/step - loss: 0.3401 - mae: 0.4582"
     ]
    },
    {
     "name": "stderr",
     "output_type": "stream",
     "text": [
      "2025-10-03 13:51:33.332499: I tensorflow/core/framework/local_rendezvous.cc:423] Local rendezvous recv item cancelled. Key hash: 13790152310584425475\n",
      "2025-10-03 13:51:33.332619: I tensorflow/core/framework/local_rendezvous.cc:423] Local rendezvous recv item cancelled. Key hash: 1974679821479223136\n"
     ]
    },
    {
     "name": "stdout",
     "output_type": "stream",
     "text": [
      "\u001b[1m3042/3042\u001b[0m \u001b[32m━━━━━━━━━━━━━━━━━━━━\u001b[0m\u001b[37m\u001b[0m \u001b[1m105s\u001b[0m 34ms/step - loss: 0.3343 - mae: 0.4523\n",
      "Epoch 22/50\n",
      "\u001b[1m   3/3042\u001b[0m \u001b[37m━━━━━━━━━━━━━━━━━━━━\u001b[0m \u001b[1m1:41\u001b[0m 33ms/step - loss: 0.3382 - mae: 0.4557"
     ]
    },
    {
     "name": "stderr",
     "output_type": "stream",
     "text": [
      "2025-10-03 13:53:18.240793: I tensorflow/core/framework/local_rendezvous.cc:423] Local rendezvous recv item cancelled. Key hash: 13790152310584425475\n",
      "2025-10-03 13:53:18.240911: I tensorflow/core/framework/local_rendezvous.cc:423] Local rendezvous recv item cancelled. Key hash: 1974679821479223136\n"
     ]
    },
    {
     "name": "stdout",
     "output_type": "stream",
     "text": [
      "\u001b[1m3042/3042\u001b[0m \u001b[32m━━━━━━━━━━━━━━━━━━━━\u001b[0m\u001b[37m\u001b[0m \u001b[1m102s\u001b[0m 34ms/step - loss: 0.3330 - mae: 0.4515\n",
      "Epoch 23/50\n",
      "\u001b[1m   3/3042\u001b[0m \u001b[37m━━━━━━━━━━━━━━━━━━━━\u001b[0m \u001b[1m1:30\u001b[0m 30ms/step - loss: 0.3363 - mae: 0.4557 "
     ]
    },
    {
     "name": "stderr",
     "output_type": "stream",
     "text": [
      "2025-10-03 13:55:00.552638: I tensorflow/core/framework/local_rendezvous.cc:423] Local rendezvous recv item cancelled. Key hash: 13790152310584425475\n",
      "2025-10-03 13:55:00.552759: I tensorflow/core/framework/local_rendezvous.cc:423] Local rendezvous recv item cancelled. Key hash: 1974679821479223136\n"
     ]
    },
    {
     "name": "stdout",
     "output_type": "stream",
     "text": [
      "\u001b[1m3042/3042\u001b[0m \u001b[32m━━━━━━━━━━━━━━━━━━━━\u001b[0m\u001b[37m\u001b[0m \u001b[1m107s\u001b[0m 35ms/step - loss: 0.3319 - mae: 0.4507\n",
      "Epoch 24/50\n",
      "\u001b[1m   3/3042\u001b[0m \u001b[37m━━━━━━━━━━━━━━━━━━━━\u001b[0m \u001b[1m1:26\u001b[0m 28ms/step - loss: 0.3354 - mae: 0.4552 "
     ]
    },
    {
     "name": "stderr",
     "output_type": "stream",
     "text": [
      "2025-10-03 13:56:47.420138: I tensorflow/core/framework/local_rendezvous.cc:423] Local rendezvous recv item cancelled. Key hash: 13790152310584425475\n",
      "2025-10-03 13:56:47.420258: I tensorflow/core/framework/local_rendezvous.cc:423] Local rendezvous recv item cancelled. Key hash: 1974679821479223136\n"
     ]
    },
    {
     "name": "stdout",
     "output_type": "stream",
     "text": [
      "\u001b[1m3042/3042\u001b[0m \u001b[32m━━━━━━━━━━━━━━━━━━━━\u001b[0m\u001b[37m\u001b[0m \u001b[1m108s\u001b[0m 35ms/step - loss: 0.3304 - mae: 0.4497\n",
      "Epoch 25/50\n",
      "\u001b[1m   3/3042\u001b[0m \u001b[37m━━━━━━━━━━━━━━━━━━━━\u001b[0m \u001b[1m1:38\u001b[0m 32ms/step - loss: 0.3339 - mae: 0.4544"
     ]
    },
    {
     "name": "stderr",
     "output_type": "stream",
     "text": [
      "2025-10-03 13:58:35.085560: I tensorflow/core/framework/local_rendezvous.cc:423] Local rendezvous recv item cancelled. Key hash: 13790152310584425475\n",
      "2025-10-03 13:58:35.085679: I tensorflow/core/framework/local_rendezvous.cc:423] Local rendezvous recv item cancelled. Key hash: 1974679821479223136\n"
     ]
    },
    {
     "name": "stdout",
     "output_type": "stream",
     "text": [
      "\u001b[1m3042/3042\u001b[0m \u001b[32m━━━━━━━━━━━━━━━━━━━━\u001b[0m\u001b[37m\u001b[0m \u001b[1m108s\u001b[0m 35ms/step - loss: 0.3295 - mae: 0.4492\n",
      "Epoch 26/50\n",
      "\u001b[1m   3/3042\u001b[0m \u001b[37m━━━━━━━━━━━━━━━━━━━━\u001b[0m \u001b[1m2:38\u001b[0m 52ms/step - loss: 0.3318 - mae: 0.4514"
     ]
    },
    {
     "name": "stderr",
     "output_type": "stream",
     "text": [
      "2025-10-03 14:00:22.606606: I tensorflow/core/framework/local_rendezvous.cc:423] Local rendezvous recv item cancelled. Key hash: 13790152310584425475\n",
      "2025-10-03 14:00:22.606692: I tensorflow/core/framework/local_rendezvous.cc:423] Local rendezvous recv item cancelled. Key hash: 1974679821479223136\n"
     ]
    },
    {
     "name": "stdout",
     "output_type": "stream",
     "text": [
      "\u001b[1m3042/3042\u001b[0m \u001b[32m━━━━━━━━━━━━━━━━━━━━\u001b[0m\u001b[37m\u001b[0m \u001b[1m107s\u001b[0m 35ms/step - loss: 0.3289 - mae: 0.4488\n",
      "Epoch 27/50\n",
      "\u001b[1m   3/3042\u001b[0m \u001b[37m━━━━━━━━━━━━━━━━━━━━\u001b[0m \u001b[1m1:33\u001b[0m 31ms/step - loss: 0.3295 - mae: 0.4508"
     ]
    },
    {
     "name": "stderr",
     "output_type": "stream",
     "text": [
      "2025-10-03 14:02:09.570968: I tensorflow/core/framework/local_rendezvous.cc:423] Local rendezvous recv item cancelled. Key hash: 13790152310584425475\n",
      "2025-10-03 14:02:09.571092: I tensorflow/core/framework/local_rendezvous.cc:423] Local rendezvous recv item cancelled. Key hash: 1974679821479223136\n"
     ]
    },
    {
     "name": "stdout",
     "output_type": "stream",
     "text": [
      "\u001b[1m3042/3042\u001b[0m \u001b[32m━━━━━━━━━━━━━━━━━━━━\u001b[0m\u001b[37m\u001b[0m \u001b[1m107s\u001b[0m 35ms/step - loss: 0.3282 - mae: 0.4483\n",
      "Epoch 28/50\n",
      "\u001b[1m   3/3042\u001b[0m \u001b[37m━━━━━━━━━━━━━━━━━━━━\u001b[0m \u001b[1m2:19\u001b[0m 46ms/step - loss: 0.3292 - mae: 0.4505"
     ]
    },
    {
     "name": "stderr",
     "output_type": "stream",
     "text": [
      "2025-10-03 14:03:56.209406: I tensorflow/core/framework/local_rendezvous.cc:423] Local rendezvous recv item cancelled. Key hash: 13790152310584425475\n",
      "2025-10-03 14:03:56.209526: I tensorflow/core/framework/local_rendezvous.cc:423] Local rendezvous recv item cancelled. Key hash: 1974679821479223136\n"
     ]
    },
    {
     "name": "stdout",
     "output_type": "stream",
     "text": [
      "\u001b[1m3042/3042\u001b[0m \u001b[32m━━━━━━━━━━━━━━━━━━━━\u001b[0m\u001b[37m\u001b[0m \u001b[1m106s\u001b[0m 35ms/step - loss: 0.3276 - mae: 0.4479\n",
      "Epoch 29/50\n",
      "\u001b[1m   2/3042\u001b[0m \u001b[37m━━━━━━━━━━━━━━━━━━━━\u001b[0m \u001b[1m3:05\u001b[0m 61ms/step - loss: 0.3322 - mae: 0.4517 "
     ]
    },
    {
     "name": "stderr",
     "output_type": "stream",
     "text": [
      "2025-10-03 14:05:42.176860: I tensorflow/core/framework/local_rendezvous.cc:423] Local rendezvous recv item cancelled. Key hash: 13790152310584425475\n",
      "2025-10-03 14:05:42.176939: I tensorflow/core/framework/local_rendezvous.cc:423] Local rendezvous recv item cancelled. Key hash: 1974679821479223136\n"
     ]
    },
    {
     "name": "stdout",
     "output_type": "stream",
     "text": [
      "\u001b[1m3042/3042\u001b[0m \u001b[32m━━━━━━━━━━━━━━━━━━━━\u001b[0m\u001b[37m\u001b[0m \u001b[1m108s\u001b[0m 35ms/step - loss: 0.3266 - mae: 0.4472\n",
      "Epoch 30/50\n",
      "\u001b[1m   3/3042\u001b[0m \u001b[37m━━━━━━━━━━━━━━━━━━━━\u001b[0m \u001b[1m1:33\u001b[0m 31ms/step - loss: 0.3287 - mae: 0.4500 "
     ]
    },
    {
     "name": "stderr",
     "output_type": "stream",
     "text": [
      "2025-10-03 14:07:30.136057: I tensorflow/core/framework/local_rendezvous.cc:423] Local rendezvous recv item cancelled. Key hash: 13790152310584425475\n",
      "2025-10-03 14:07:30.136187: I tensorflow/core/framework/local_rendezvous.cc:423] Local rendezvous recv item cancelled. Key hash: 1974679821479223136\n"
     ]
    },
    {
     "name": "stdout",
     "output_type": "stream",
     "text": [
      "\u001b[1m3042/3042\u001b[0m \u001b[32m━━━━━━━━━━━━━━━━━━━━\u001b[0m\u001b[37m\u001b[0m \u001b[1m102s\u001b[0m 34ms/step - loss: 0.3255 - mae: 0.4465\n",
      "Epoch 31/50\n",
      "\u001b[1m   3/3042\u001b[0m \u001b[37m━━━━━━━━━━━━━━━━━━━━\u001b[0m \u001b[1m1:27\u001b[0m 29ms/step - loss: 0.3256 - mae: 0.4484 "
     ]
    },
    {
     "name": "stderr",
     "output_type": "stream",
     "text": [
      "2025-10-03 14:09:12.493911: I tensorflow/core/framework/local_rendezvous.cc:423] Local rendezvous recv item cancelled. Key hash: 13790152310584425475\n",
      "2025-10-03 14:09:12.494031: I tensorflow/core/framework/local_rendezvous.cc:423] Local rendezvous recv item cancelled. Key hash: 1974679821479223136\n"
     ]
    },
    {
     "name": "stdout",
     "output_type": "stream",
     "text": [
      "\u001b[1m3042/3042\u001b[0m \u001b[32m━━━━━━━━━━━━━━━━━━━━\u001b[0m\u001b[37m\u001b[0m \u001b[1m106s\u001b[0m 35ms/step - loss: 0.3253 - mae: 0.4464\n",
      "Epoch 32/50\n",
      "\u001b[1m   1/3042\u001b[0m \u001b[37m━━━━━━━━━━━━━━━━━━━━\u001b[0m \u001b[1m6:57\u001b[0m 137ms/step - loss: 0.3315 - mae: 0.4521"
     ]
    },
    {
     "name": "stderr",
     "output_type": "stream",
     "text": [
      "2025-10-03 14:10:58.131605: I tensorflow/core/framework/local_rendezvous.cc:423] Local rendezvous recv item cancelled. Key hash: 13790152310584425475\n",
      "2025-10-03 14:10:58.131688: I tensorflow/core/framework/local_rendezvous.cc:423] Local rendezvous recv item cancelled. Key hash: 1974679821479223136\n"
     ]
    },
    {
     "name": "stdout",
     "output_type": "stream",
     "text": [
      "\u001b[1m3042/3042\u001b[0m \u001b[32m━━━━━━━━━━━━━━━━━━━━\u001b[0m\u001b[37m\u001b[0m \u001b[1m106s\u001b[0m 35ms/step - loss: 0.3248 - mae: 0.4460\n",
      "Epoch 33/50\n",
      "\u001b[1m   1/3042\u001b[0m \u001b[37m━━━━━━━━━━━━━━━━━━━━\u001b[0m \u001b[1m7:42\u001b[0m 152ms/step - loss: 0.3318 - mae: 0.4517"
     ]
    },
    {
     "name": "stderr",
     "output_type": "stream",
     "text": [
      "2025-10-03 14:12:43.703716: I tensorflow/core/framework/local_rendezvous.cc:404] Local rendezvous is aborting with status: OUT_OF_RANGE: End of sequence\n",
      "\t [[{{node IteratorGetNext}}]]\n",
      "\t [[IteratorGetNext/_2]]\n",
      "2025-10-03 14:12:43.703802: I tensorflow/core/framework/local_rendezvous.cc:423] Local rendezvous recv item cancelled. Key hash: 13790152310584425475\n",
      "2025-10-03 14:12:43.703824: I tensorflow/core/framework/local_rendezvous.cc:423] Local rendezvous recv item cancelled. Key hash: 1974679821479223136\n"
     ]
    },
    {
     "name": "stdout",
     "output_type": "stream",
     "text": [
      "\u001b[1m3042/3042\u001b[0m \u001b[32m━━━━━━━━━━━━━━━━━━━━\u001b[0m\u001b[37m\u001b[0m \u001b[1m109s\u001b[0m 36ms/step - loss: 0.3259 - mae: 0.4467\n",
      "Epoch 34/50\n",
      "\u001b[1m   3/3042\u001b[0m \u001b[37m━━━━━━━━━━━━━━━━━━━━\u001b[0m \u001b[1m1:44\u001b[0m 35ms/step - loss: 0.3336 - mae: 0.4533"
     ]
    },
    {
     "name": "stderr",
     "output_type": "stream",
     "text": [
      "2025-10-03 14:14:32.809768: I tensorflow/core/framework/local_rendezvous.cc:423] Local rendezvous recv item cancelled. Key hash: 13790152310584425475\n",
      "2025-10-03 14:14:32.809889: I tensorflow/core/framework/local_rendezvous.cc:423] Local rendezvous recv item cancelled. Key hash: 1974679821479223136\n"
     ]
    },
    {
     "name": "stdout",
     "output_type": "stream",
     "text": [
      "\u001b[1m3042/3042\u001b[0m \u001b[32m━━━━━━━━━━━━━━━━━━━━\u001b[0m\u001b[37m\u001b[0m \u001b[1m105s\u001b[0m 35ms/step - loss: 0.3243 - mae: 0.4456\n",
      "Epoch 35/50\n",
      "\u001b[1m   3/3042\u001b[0m \u001b[37m━━━━━━━━━━━━━━━━━━━━\u001b[0m \u001b[1m1:27\u001b[0m 29ms/step - loss: 0.3288 - mae: 0.4497"
     ]
    },
    {
     "name": "stderr",
     "output_type": "stream",
     "text": [
      "2025-10-03 14:16:18.027417: I tensorflow/core/framework/local_rendezvous.cc:423] Local rendezvous recv item cancelled. Key hash: 13790152310584425475\n",
      "2025-10-03 14:16:18.027537: I tensorflow/core/framework/local_rendezvous.cc:423] Local rendezvous recv item cancelled. Key hash: 1974679821479223136\n"
     ]
    },
    {
     "name": "stdout",
     "output_type": "stream",
     "text": [
      "\u001b[1m3042/3042\u001b[0m \u001b[32m━━━━━━━━━━━━━━━━━━━━\u001b[0m\u001b[37m\u001b[0m \u001b[1m105s\u001b[0m 35ms/step - loss: 0.3235 - mae: 0.4452\n",
      "Epoch 36/50\n",
      "\u001b[1m   3/3042\u001b[0m \u001b[37m━━━━━━━━━━━━━━━━━━━━\u001b[0m \u001b[1m1:48\u001b[0m 36ms/step - loss: 0.3284 - mae: 0.4489"
     ]
    },
    {
     "name": "stderr",
     "output_type": "stream",
     "text": [
      "2025-10-03 14:18:03.216008: I tensorflow/core/framework/local_rendezvous.cc:423] Local rendezvous recv item cancelled. Key hash: 13790152310584425475\n",
      "2025-10-03 14:18:03.216131: I tensorflow/core/framework/local_rendezvous.cc:423] Local rendezvous recv item cancelled. Key hash: 1974679821479223136\n"
     ]
    },
    {
     "name": "stdout",
     "output_type": "stream",
     "text": [
      "\u001b[1m3042/3042\u001b[0m \u001b[32m━━━━━━━━━━━━━━━━━━━━\u001b[0m\u001b[37m\u001b[0m \u001b[1m105s\u001b[0m 35ms/step - loss: 0.3232 - mae: 0.4449\n",
      "Epoch 37/50\n",
      "\u001b[1m   3/3042\u001b[0m \u001b[37m━━━━━━━━━━━━━━━━━━━━\u001b[0m \u001b[1m1:27\u001b[0m 29ms/step - loss: 0.3293 - mae: 0.4501"
     ]
    },
    {
     "name": "stderr",
     "output_type": "stream",
     "text": [
      "2025-10-03 14:19:48.242634: I tensorflow/core/framework/local_rendezvous.cc:423] Local rendezvous recv item cancelled. Key hash: 13790152310584425475\n",
      "2025-10-03 14:19:48.242756: I tensorflow/core/framework/local_rendezvous.cc:423] Local rendezvous recv item cancelled. Key hash: 1974679821479223136\n"
     ]
    },
    {
     "name": "stdout",
     "output_type": "stream",
     "text": [
      "\u001b[1m3042/3042\u001b[0m \u001b[32m━━━━━━━━━━━━━━━━━━━━\u001b[0m\u001b[37m\u001b[0m \u001b[1m106s\u001b[0m 35ms/step - loss: 0.3223 - mae: 0.4444\n",
      "Epoch 38/50\n",
      "\u001b[1m   1/3042\u001b[0m \u001b[37m━━━━━━━━━━━━━━━━━━━━\u001b[0m \u001b[1m7:34\u001b[0m 150ms/step - loss: 0.3233 - mae: 0.4467"
     ]
    },
    {
     "name": "stderr",
     "output_type": "stream",
     "text": [
      "2025-10-03 14:21:34.675912: I tensorflow/core/framework/local_rendezvous.cc:423] Local rendezvous recv item cancelled. Key hash: 13790152310584425475\n",
      "2025-10-03 14:21:34.676030: I tensorflow/core/framework/local_rendezvous.cc:423] Local rendezvous recv item cancelled. Key hash: 1974679821479223136\n"
     ]
    },
    {
     "name": "stdout",
     "output_type": "stream",
     "text": [
      "\u001b[1m3042/3042\u001b[0m \u001b[32m━━━━━━━━━━━━━━━━━━━━\u001b[0m\u001b[37m\u001b[0m \u001b[1m108s\u001b[0m 36ms/step - loss: 0.3220 - mae: 0.4441\n",
      "Epoch 39/50\n",
      "\u001b[1m   5/3042\u001b[0m \u001b[37m━━━━━━━━━━━━━━━━━━━━\u001b[0m \u001b[1m1:28\u001b[0m 29ms/step - loss: 0.3277 - mae: 0.4489"
     ]
    },
    {
     "name": "stderr",
     "output_type": "stream",
     "text": [
      "2025-10-03 14:23:22.819515: I tensorflow/core/framework/local_rendezvous.cc:423] Local rendezvous recv item cancelled. Key hash: 13790152310584425475\n",
      "2025-10-03 14:23:22.819636: I tensorflow/core/framework/local_rendezvous.cc:423] Local rendezvous recv item cancelled. Key hash: 1974679821479223136\n"
     ]
    },
    {
     "name": "stdout",
     "output_type": "stream",
     "text": [
      "\u001b[1m3042/3042\u001b[0m \u001b[32m━━━━━━━━━━━━━━━━━━━━\u001b[0m\u001b[37m\u001b[0m \u001b[1m106s\u001b[0m 35ms/step - loss: 0.3220 - mae: 0.4441\n",
      "Epoch 40/50\n",
      "\u001b[1m   3/3042\u001b[0m \u001b[37m━━━━━━━━━━━━━━━━━━━━\u001b[0m \u001b[1m2:15\u001b[0m 45ms/step - loss: 0.3249 - mae: 0.4477"
     ]
    },
    {
     "name": "stderr",
     "output_type": "stream",
     "text": [
      "2025-10-03 14:25:08.759503: I tensorflow/core/framework/local_rendezvous.cc:423] Local rendezvous recv item cancelled. Key hash: 13790152310584425475\n",
      "2025-10-03 14:25:08.759623: I tensorflow/core/framework/local_rendezvous.cc:423] Local rendezvous recv item cancelled. Key hash: 1974679821479223136\n"
     ]
    },
    {
     "name": "stdout",
     "output_type": "stream",
     "text": [
      "\u001b[1m3042/3042\u001b[0m \u001b[32m━━━━━━━━━━━━━━━━━━━━\u001b[0m\u001b[37m\u001b[0m \u001b[1m107s\u001b[0m 35ms/step - loss: 0.3210 - mae: 0.4435\n",
      "Epoch 41/50\n",
      "\u001b[1m   3/3042\u001b[0m \u001b[37m━━━━━━━━━━━━━━━━━━━━\u001b[0m \u001b[1m1:29\u001b[0m 30ms/step - loss: 0.3245 - mae: 0.4475"
     ]
    },
    {
     "name": "stderr",
     "output_type": "stream",
     "text": [
      "2025-10-03 14:26:55.331973: I tensorflow/core/framework/local_rendezvous.cc:423] Local rendezvous recv item cancelled. Key hash: 13790152310584425475\n",
      "2025-10-03 14:26:55.332097: I tensorflow/core/framework/local_rendezvous.cc:423] Local rendezvous recv item cancelled. Key hash: 1974679821479223136\n"
     ]
    },
    {
     "name": "stdout",
     "output_type": "stream",
     "text": [
      "\u001b[1m3042/3042\u001b[0m \u001b[32m━━━━━━━━━━━━━━━━━━━━\u001b[0m\u001b[37m\u001b[0m \u001b[1m106s\u001b[0m 35ms/step - loss: 0.3209 - mae: 0.4434\n",
      "Epoch 42/50\n",
      "\u001b[1m   1/3042\u001b[0m \u001b[37m━━━━━━━━━━━━━━━━━━━━\u001b[0m \u001b[1m5:43\u001b[0m 113ms/step - loss: 0.3259 - mae: 0.4479"
     ]
    },
    {
     "name": "stderr",
     "output_type": "stream",
     "text": [
      "2025-10-03 14:28:41.066316: I tensorflow/core/framework/local_rendezvous.cc:423] Local rendezvous recv item cancelled. Key hash: 13790152310584425475\n",
      "2025-10-03 14:28:41.066447: I tensorflow/core/framework/local_rendezvous.cc:423] Local rendezvous recv item cancelled. Key hash: 1974679821479223136\n"
     ]
    },
    {
     "name": "stdout",
     "output_type": "stream",
     "text": [
      "\u001b[1m3042/3042\u001b[0m \u001b[32m━━━━━━━━━━━━━━━━━━━━\u001b[0m\u001b[37m\u001b[0m \u001b[1m108s\u001b[0m 35ms/step - loss: 0.3207 - mae: 0.4432\n",
      "Epoch 43/50\n",
      "\u001b[1m   3/3042\u001b[0m \u001b[37m━━━━━━━━━━━━━━━━━━━━\u001b[0m \u001b[1m1:29\u001b[0m 30ms/step - loss: 0.3231 - mae: 0.4460"
     ]
    },
    {
     "name": "stderr",
     "output_type": "stream",
     "text": [
      "2025-10-03 14:30:28.666383: I tensorflow/core/framework/local_rendezvous.cc:423] Local rendezvous recv item cancelled. Key hash: 13790152310584425475\n",
      "2025-10-03 14:30:28.666504: I tensorflow/core/framework/local_rendezvous.cc:423] Local rendezvous recv item cancelled. Key hash: 1974679821479223136\n"
     ]
    },
    {
     "name": "stdout",
     "output_type": "stream",
     "text": [
      "\u001b[1m3042/3042\u001b[0m \u001b[32m━━━━━━━━━━━━━━━━━━━━\u001b[0m\u001b[37m\u001b[0m \u001b[1m108s\u001b[0m 36ms/step - loss: 0.3202 - mae: 0.4429\n",
      "Epoch 44/50\n",
      "\u001b[1m   2/3042\u001b[0m \u001b[37m━━━━━━━━━━━━━━━━━━━━\u001b[0m \u001b[1m3:47\u001b[0m 75ms/step - loss: 0.3263 - mae: 0.4490"
     ]
    },
    {
     "name": "stderr",
     "output_type": "stream",
     "text": [
      "2025-10-03 14:32:16.878542: I tensorflow/core/framework/local_rendezvous.cc:423] Local rendezvous recv item cancelled. Key hash: 13790152310584425475\n",
      "2025-10-03 14:32:16.878624: I tensorflow/core/framework/local_rendezvous.cc:423] Local rendezvous recv item cancelled. Key hash: 1974679821479223136\n"
     ]
    },
    {
     "name": "stdout",
     "output_type": "stream",
     "text": [
      "\u001b[1m3042/3042\u001b[0m \u001b[32m━━━━━━━━━━━━━━━━━━━━\u001b[0m\u001b[37m\u001b[0m \u001b[1m107s\u001b[0m 35ms/step - loss: 0.3205 - mae: 0.4431\n",
      "Epoch 45/50\n",
      "\u001b[1m   3/3042\u001b[0m \u001b[37m━━━━━━━━━━━━━━━━━━━━\u001b[0m \u001b[1m1:43\u001b[0m 34ms/step - loss: 0.3231 - mae: 0.4462 "
     ]
    },
    {
     "name": "stderr",
     "output_type": "stream",
     "text": [
      "2025-10-03 14:34:03.884159: I tensorflow/core/framework/local_rendezvous.cc:423] Local rendezvous recv item cancelled. Key hash: 13790152310584425475\n",
      "2025-10-03 14:34:03.884248: I tensorflow/core/framework/local_rendezvous.cc:423] Local rendezvous recv item cancelled. Key hash: 1974679821479223136\n"
     ]
    },
    {
     "name": "stdout",
     "output_type": "stream",
     "text": [
      "\u001b[1m3042/3042\u001b[0m \u001b[32m━━━━━━━━━━━━━━━━━━━━\u001b[0m\u001b[37m\u001b[0m \u001b[1m105s\u001b[0m 34ms/step - loss: 0.3193 - mae: 0.4423\n",
      "Epoch 46/50\n",
      "\u001b[1m   3/3042\u001b[0m \u001b[37m━━━━━━━━━━━━━━━━━━━━\u001b[0m \u001b[1m1:31\u001b[0m 30ms/step - loss: 0.3233 - mae: 0.4466"
     ]
    },
    {
     "name": "stderr",
     "output_type": "stream",
     "text": [
      "2025-10-03 14:35:48.647040: I tensorflow/core/framework/local_rendezvous.cc:423] Local rendezvous recv item cancelled. Key hash: 13790152310584425475\n",
      "2025-10-03 14:35:48.647168: I tensorflow/core/framework/local_rendezvous.cc:423] Local rendezvous recv item cancelled. Key hash: 1974679821479223136\n"
     ]
    },
    {
     "name": "stdout",
     "output_type": "stream",
     "text": [
      "\u001b[1m3042/3042\u001b[0m \u001b[32m━━━━━━━━━━━━━━━━━━━━\u001b[0m\u001b[37m\u001b[0m \u001b[1m107s\u001b[0m 35ms/step - loss: 0.3191 - mae: 0.4422\n",
      "Epoch 47/50\n",
      "\u001b[1m   3/3042\u001b[0m \u001b[37m━━━━━━━━━━━━━━━━━━━━\u001b[0m \u001b[1m1:29\u001b[0m 30ms/step - loss: 0.3236 - mae: 0.4459"
     ]
    },
    {
     "name": "stderr",
     "output_type": "stream",
     "text": [
      "2025-10-03 14:37:35.488136: I tensorflow/core/framework/local_rendezvous.cc:423] Local rendezvous recv item cancelled. Key hash: 13790152310584425475\n",
      "2025-10-03 14:37:35.488220: I tensorflow/core/framework/local_rendezvous.cc:423] Local rendezvous recv item cancelled. Key hash: 1974679821479223136\n"
     ]
    },
    {
     "name": "stdout",
     "output_type": "stream",
     "text": [
      "\u001b[1m3042/3042\u001b[0m \u001b[32m━━━━━━━━━━━━━━━━━━━━\u001b[0m\u001b[37m\u001b[0m \u001b[1m105s\u001b[0m 35ms/step - loss: 0.3198 - mae: 0.4426\n",
      "Epoch 48/50\n",
      "\u001b[1m   3/3042\u001b[0m \u001b[37m━━━━━━━━━━━━━━━━━━━━\u001b[0m \u001b[1m1:34\u001b[0m 31ms/step - loss: 0.3221 - mae: 0.4461"
     ]
    },
    {
     "name": "stderr",
     "output_type": "stream",
     "text": [
      "2025-10-03 14:39:20.902315: I tensorflow/core/framework/local_rendezvous.cc:423] Local rendezvous recv item cancelled. Key hash: 13790152310584425475\n",
      "2025-10-03 14:39:20.902434: I tensorflow/core/framework/local_rendezvous.cc:423] Local rendezvous recv item cancelled. Key hash: 1974679821479223136\n"
     ]
    },
    {
     "name": "stdout",
     "output_type": "stream",
     "text": [
      "\u001b[1m3042/3042\u001b[0m \u001b[32m━━━━━━━━━━━━━━━━━━━━\u001b[0m\u001b[37m\u001b[0m \u001b[1m104s\u001b[0m 34ms/step - loss: 0.3184 - mae: 0.4417\n",
      "Epoch 49/50\n",
      "\u001b[1m   3/3042\u001b[0m \u001b[37m━━━━━━━━━━━━━━━━━━━━\u001b[0m \u001b[1m1:27\u001b[0m 29ms/step - loss: 0.3256 - mae: 0.4478"
     ]
    },
    {
     "name": "stderr",
     "output_type": "stream",
     "text": [
      "2025-10-03 14:41:04.474629: I tensorflow/core/framework/local_rendezvous.cc:423] Local rendezvous recv item cancelled. Key hash: 13790152310584425475\n",
      "2025-10-03 14:41:04.474754: I tensorflow/core/framework/local_rendezvous.cc:423] Local rendezvous recv item cancelled. Key hash: 1974679821479223136\n"
     ]
    },
    {
     "name": "stdout",
     "output_type": "stream",
     "text": [
      "\u001b[1m3042/3042\u001b[0m \u001b[32m━━━━━━━━━━━━━━━━━━━━\u001b[0m\u001b[37m\u001b[0m \u001b[1m105s\u001b[0m 35ms/step - loss: 0.3183 - mae: 0.4417\n",
      "Epoch 50/50\n",
      "\u001b[1m   3/3042\u001b[0m \u001b[37m━━━━━━━━━━━━━━━━━━━━\u001b[0m \u001b[1m1:30\u001b[0m 30ms/step - loss: 0.3204 - mae: 0.4442 "
     ]
    },
    {
     "name": "stderr",
     "output_type": "stream",
     "text": [
      "2025-10-03 14:42:49.530128: I tensorflow/core/framework/local_rendezvous.cc:423] Local rendezvous recv item cancelled. Key hash: 13790152310584425475\n",
      "2025-10-03 14:42:49.530253: I tensorflow/core/framework/local_rendezvous.cc:423] Local rendezvous recv item cancelled. Key hash: 1974679821479223136\n"
     ]
    },
    {
     "name": "stdout",
     "output_type": "stream",
     "text": [
      "\u001b[1m3042/3042\u001b[0m \u001b[32m━━━━━━━━━━━━━━━━━━━━\u001b[0m\u001b[37m\u001b[0m \u001b[1m103s\u001b[0m 34ms/step - loss: 0.3183 - mae: 0.4416\n"
     ]
    },
    {
     "name": "stderr",
     "output_type": "stream",
     "text": [
      "2025-10-03 14:44:32.546426: I tensorflow/core/framework/local_rendezvous.cc:423] Local rendezvous recv item cancelled. Key hash: 13790152310584425475\n",
      "2025-10-03 14:44:32.546548: I tensorflow/core/framework/local_rendezvous.cc:423] Local rendezvous recv item cancelled. Key hash: 1974679821479223136\n"
     ]
    }
   ],
   "source": [
    "callbacks = [\n",
    "    keras.callbacks.EarlyStopping(patience=5, restore_best_weights=True, monitor=\"val_loss\")\n",
    "]\n",
    "\n",
    "history = model.fit(\n",
    "    X_train, y_train,\n",
    "    validation_data=(X_val, y_val),\n",
    "    epochs=50,\n",
    "    batch_size=256,\n",
    "    callbacks=callbacks,\n",
    "    verbose=1\n",
    ")\n"
   ]
  },
  {
   "cell_type": "markdown",
   "id": "97c6872c-23c0-4907-9b19-112ed7cd277d",
   "metadata": {},
   "source": [
    "### 8. Curva de entrenamiento"
   ]
  },
  {
   "cell_type": "code",
   "execution_count": 21,
   "id": "097bb45c-8906-473f-981d-3580278cf092",
   "metadata": {},
   "outputs": [
    {
     "ename": "KeyError",
     "evalue": "'val_loss'",
     "output_type": "error",
     "traceback": [
      "\u001b[0;31m---------------------------------------------------------------------------\u001b[0m",
      "\u001b[0;31mKeyError\u001b[0m                                  Traceback (most recent call last)",
      "Cell \u001b[0;32mIn[21], line 3\u001b[0m\n\u001b[1;32m      1\u001b[0m plt\u001b[38;5;241m.\u001b[39mfigure()\n\u001b[1;32m      2\u001b[0m plt\u001b[38;5;241m.\u001b[39mplot(history\u001b[38;5;241m.\u001b[39mhistory[\u001b[38;5;124m\"\u001b[39m\u001b[38;5;124mloss\u001b[39m\u001b[38;5;124m\"\u001b[39m], label\u001b[38;5;241m=\u001b[39m\u001b[38;5;124m\"\u001b[39m\u001b[38;5;124mtrain\u001b[39m\u001b[38;5;124m\"\u001b[39m)\n\u001b[0;32m----> 3\u001b[0m plt\u001b[38;5;241m.\u001b[39mplot(\u001b[43mhistory\u001b[49m\u001b[38;5;241;43m.\u001b[39;49m\u001b[43mhistory\u001b[49m\u001b[43m[\u001b[49m\u001b[38;5;124;43m\"\u001b[39;49m\u001b[38;5;124;43mval_loss\u001b[39;49m\u001b[38;5;124;43m\"\u001b[39;49m\u001b[43m]\u001b[49m, label\u001b[38;5;241m=\u001b[39m\u001b[38;5;124m\"\u001b[39m\u001b[38;5;124mval\u001b[39m\u001b[38;5;124m\"\u001b[39m)\n\u001b[1;32m      4\u001b[0m plt\u001b[38;5;241m.\u001b[39mtitle(\u001b[38;5;124m\"\u001b[39m\u001b[38;5;124mMSE por época\u001b[39m\u001b[38;5;124m\"\u001b[39m)\n\u001b[1;32m      5\u001b[0m plt\u001b[38;5;241m.\u001b[39mlegend(); plt\u001b[38;5;241m.\u001b[39mshow()\n",
      "\u001b[0;31mKeyError\u001b[0m: 'val_loss'"
     ]
    },
    {
     "data": {
      "image/png": "[encoded data removed]",
      "text/plain": [
       "<Figure size 640x480 with 1 Axes>"
      ]
     },
     "metadata": {},
     "output_type": "display_data"
    }
   ],
   "source": [
    "plt.figure()\n",
    "plt.plot(history.history[\"loss\"], label=\"train\")\n",
    "plt.plot(history.history[\"val_loss\"], label=\"val\")\n",
    "plt.title(\"MSE por época\")\n",
    "plt.legend(); plt.show()\n"
   ]
  },
  {
   "cell_type": "markdown",
   "id": "c89a89fe-05cc-49e8-ac6a-bdf7f1d31fb5",
   "metadata": {},
   "source": [
    "### Evaluación en test (métricas por horizonte)"
   ]
  },
  {
   "cell_type": "code",
   "execution_count": 22,
   "id": "cb0dde56-0f89-4991-b4ca-3ea79078c003",
   "metadata": {},
   "outputs": [
    {
     "name": "stdout",
     "output_type": "stream",
     "text": [
      "Test shapes: (0, 60, 1) (0, 90)\n"
     ]
    },
    {
     "ename": "UnboundLocalError",
     "evalue": "local variable 'batch_outputs' referenced before assignment",
     "output_type": "error",
     "traceback": [
      "\u001b[0;31m---------------------------------------------------------------------------\u001b[0m",
      "\u001b[0;31mUnboundLocalError\u001b[0m                         Traceback (most recent call last)",
      "Cell \u001b[0;32mIn[22], line 7\u001b[0m\n\u001b[1;32m      4\u001b[0m \u001b[38;5;28mprint\u001b[39m(\u001b[38;5;124m\"\u001b[39m\u001b[38;5;124mTest shapes:\u001b[39m\u001b[38;5;124m\"\u001b[39m, X_test\u001b[38;5;241m.\u001b[39mshape, y_test\u001b[38;5;241m.\u001b[39mshape)\n\u001b[1;32m      6\u001b[0m \u001b[38;5;66;03m# Predicción estandarizada\u001b[39;00m\n\u001b[0;32m----> 7\u001b[0m y_pred_std \u001b[38;5;241m=\u001b[39m \u001b[43mmodel\u001b[49m\u001b[38;5;241;43m.\u001b[39;49m\u001b[43mpredict\u001b[49m\u001b[43m(\u001b[49m\u001b[43mX_test\u001b[49m\u001b[43m,\u001b[49m\u001b[43m \u001b[49m\u001b[43mverbose\u001b[49m\u001b[38;5;241;43m=\u001b[39;49m\u001b[38;5;241;43m0\u001b[39;49m\u001b[43m)\u001b[49m\n\u001b[1;32m      9\u001b[0m \u001b[38;5;66;03m# Para métricas en ventas originales, re-escala por serie.\u001b[39;00m\n\u001b[1;32m     10\u001b[0m \u001b[38;5;66;03m# Opción simple: métricas en espacio estandarizado. Opción completa: reconstrucción por ventana y serie.\u001b[39;00m\n\u001b[1;32m     11\u001b[0m \u001b[38;5;66;03m# Aquí daremos métricas en estándar (consistente con entrenamiento) + ejemplo de desestandarización para plotting.\u001b[39;00m\n\u001b[1;32m     13\u001b[0m \u001b[38;5;28;01mfrom\u001b[39;00m\u001b[38;5;250m \u001b[39m\u001b[38;5;21;01msklearn\u001b[39;00m\u001b[38;5;21;01m.\u001b[39;00m\u001b[38;5;21;01mmetrics\u001b[39;00m\u001b[38;5;250m \u001b[39m\u001b[38;5;28;01mimport\u001b[39;00m mean_absolute_error, mean_squared_error\n",
      "File \u001b[0;32m~/.venvs/dl-lab8/lib/python3.10/site-packages/keras/src/utils/traceback_utils.py:122\u001b[0m, in \u001b[0;36mfilter_traceback.<locals>.error_handler\u001b[0;34m(*args, **kwargs)\u001b[0m\n\u001b[1;32m    119\u001b[0m     filtered_tb \u001b[38;5;241m=\u001b[39m _process_traceback_frames(e\u001b[38;5;241m.\u001b[39m__traceback__)\n\u001b[1;32m    120\u001b[0m     \u001b[38;5;66;03m# To get the full stack trace, call:\u001b[39;00m\n\u001b[1;32m    121\u001b[0m     \u001b[38;5;66;03m# `keras.config.disable_traceback_filtering()`\u001b[39;00m\n\u001b[0;32m--> 122\u001b[0m     \u001b[38;5;28;01mraise\u001b[39;00m e\u001b[38;5;241m.\u001b[39mwith_traceback(filtered_tb) \u001b[38;5;28;01mfrom\u001b[39;00m\u001b[38;5;250m \u001b[39m\u001b[38;5;28;01mNone\u001b[39;00m\n\u001b[1;32m    123\u001b[0m \u001b[38;5;28;01mfinally\u001b[39;00m:\n\u001b[1;32m    124\u001b[0m     \u001b[38;5;28;01mdel\u001b[39;00m filtered_tb\n",
      "File \u001b[0;32m~/.venvs/dl-lab8/lib/python3.10/site-packages/keras/src/backend/tensorflow/trainer.py:575\u001b[0m, in \u001b[0;36mTensorFlowTrainer.predict\u001b[0;34m(self, x, batch_size, verbose, steps, callbacks)\u001b[0m\n\u001b[1;32m    572\u001b[0m             \u001b[38;5;28;01mbreak\u001b[39;00m\n\u001b[1;32m    573\u001b[0m callbacks\u001b[38;5;241m.\u001b[39mon_predict_end()\n\u001b[1;32m    574\u001b[0m outputs \u001b[38;5;241m=\u001b[39m tree\u001b[38;5;241m.\u001b[39mmap_structure_up_to(\n\u001b[0;32m--> 575\u001b[0m     \u001b[43mbatch_outputs\u001b[49m, potentially_ragged_concat, outputs\n\u001b[1;32m    576\u001b[0m )\n\u001b[1;32m    577\u001b[0m \u001b[38;5;28;01mreturn\u001b[39;00m tree\u001b[38;5;241m.\u001b[39mmap_structure(convert_to_np_if_not_ragged, outputs)\n",
      "\u001b[0;31mUnboundLocalError\u001b[0m: local variable 'batch_outputs' referenced before assignment"
     ]
    }
   ],
   "source": [
    "# Construye ventanas en test (usa historia en test_s; puede quedar menos denso)\n",
    "X_test, y_test = build_dataset(df_test_s, window=WINDOW, horizon=HORIZON)\n",
    "X_test = X_test[..., None]\n",
    "print(\"Test shapes:\", X_test.shape, y_test.shape)\n",
    "\n",
    "# Predicción estandarizada\n",
    "y_pred_std = model.predict(X_test, verbose=0)\n",
    "\n",
    "# Para métricas en ventas originales, re-escala por serie.\n",
    "# Opción simple: métricas en espacio estandarizado. Opción completa: reconstrucción por ventana y serie.\n",
    "# Aquí daremos métricas en estándar (consistente con entrenamiento) + ejemplo de desestandarización para plotting.\n",
    "\n",
    "from sklearn.metrics import mean_absolute_error, mean_squared_error\n",
    "\n",
    "mae = mean_absolute_error(y_test.ravel(), y_pred_std.ravel())\n",
    "mse = mean_squared_error(y_test.ravel(), y_pred_std.ravel())\n",
    "rmse = math.sqrt(mse)\n",
    "print(f\"MAE(std)={mae:.4f}  MSE(std)={mse:.4f}  RMSE(std)={rmse:.4f}\")\n"
   ]
  },
  {
   "cell_type": "markdown",
   "id": "3e124aad-64ac-4d1f-ad36-6c5ee2d43614",
   "metadata": {},
   "source": [
    "### 10. Forecast 90 días por serie y gráfico (desestandarizado)"
   ]
  },
  {
   "cell_type": "code",
   "execution_count": 23,
   "id": "c9230739-7ed6-4a40-b455-8f6a78e051ab",
   "metadata": {},
   "outputs": [
    {
     "data": {
      "image/png": "[encoded data removed]",
      "text/plain": [
       "<Figure size 1000x400 with 1 Axes>"
      ]
     },
     "metadata": {},
     "output_type": "display_data"
    }
   ],
   "source": [
    "def inverse_series(y_std, mu, sd):\n",
    "    return y_std * sd + mu\n",
    "\n",
    "# Tomemos una serie ejemplo (store=1, item=1) y graficamos últimos 200 días + predicción 90 días\n",
    "SAMP_STORE, SAMP_ITEM = 1, 1\n",
    "\n",
    "g_all = df[df[\"store\"].eq(SAMP_STORE) & df[\"item\"].eq(SAMP_ITEM)].sort_values(\"date\").copy()\n",
    "g_train = df_train_s[(df_train_s[\"store\"].eq(SAMP_STORE)) & (df_train_s[\"item\"].eq(SAMP_ITEM))].sort_values(\"date\")\n",
    "g_val   = df_val_s[(df_val_s[\"store\"].eq(SAMP_STORE)) & (df_val_s[\"item\"].eq(SAMP_ITEM))].sort_values(\"date\")\n",
    "g_test  = df_test_s[(df_test_s[\"store\"].eq(SAMP_STORE)) & (df_test_s[\"item\"].eq(SAMP_ITEM))].sort_values(\"date\")\n",
    "\n",
    "mu, sd = stats.get((SAMP_STORE, SAMP_ITEM), (0.0,1.0))\n",
    "\n",
    "# Construimos la última ventana que termina justo ANTES del periodo de test completo\n",
    "g_concat = pd.concat([g_train, g_val], axis=0).sort_values(\"date\")\n",
    "y_hist = g_concat[\"y\"].values\n",
    "\n",
    "if len(y_hist) >= WINDOW:\n",
    "    lastX = y_hist[-WINDOW:].astype(np.float32)[None, :, None]\n",
    "    yhat_std = model.predict(lastX, verbose=0)[0]  # (90,)\n",
    "    yhat = inverse_series(yhat_std, mu, sd)\n",
    "\n",
    "    # Serie real en test (ventas originales)\n",
    "    real = df_test[(df_test[\"store\"].eq(SAMP_STORE)) & (df_test[\"item\"].eq(SAMP_ITEM))].sort_values(\"date\")[\"sales\"].values[:PRED_STEPS]\n",
    "\n",
    "    # Eje temporal\n",
    "    last_hist_dates = g_concat[\"date\"].iloc[-WINDOW:]\n",
    "    future_dates = pd.date_range(start=df_test[\"date\"].min(), periods=PRED_STEPS, freq=\"D\")\n",
    "\n",
    "    plt.figure(figsize=(10,4))\n",
    "    # mostramos últimos 200 días de la serie original\n",
    "    mask200 = g_all[\"date\"] >= (g_all[\"date\"].max() - pd.Timedelta(days=200))\n",
    "    plt.plot(g_all.loc[mask200, \"date\"], g_all.loc[mask200, \"sales\"], label=\"Real (hist)\", alpha=0.6)\n",
    "    plt.plot(future_dates, real, label=\"Real (test)\")\n",
    "    plt.plot(future_dates, yhat, label=\"Predicción (90d)\")\n",
    "    plt.title(f\"Store {SAMP_STORE} - Item {SAMP_ITEM}: Real vs Predicción (90 días)\")\n",
    "    plt.legend(); plt.tight_layout(); plt.show()\n",
    "else:\n",
    "    print(\"No hay suficiente historia para armar la ventana de ejemplo.\")\n"
   ]
  },
  {
   "cell_type": "markdown",
   "id": "cadafd96-73a5-412c-964c-8f413749463a",
   "metadata": {},
   "source": [
    "### 11. Forecast para todas las series (entrega/uso general)"
   ]
  },
  {
   "cell_type": "code",
   "execution_count": 24,
   "id": "3cf13e1a-785b-4574-b9ac-82051418c175",
   "metadata": {},
   "outputs": [
    {
     "data": {
      "text/html": [
       "<div>\n",
       "<style scoped>\n",
       "    .dataframe tbody tr th:only-of-type {\n",
       "        vertical-align: middle;\n",
       "    }\n",
       "\n",
       "    .dataframe tbody tr th {\n",
       "        vertical-align: top;\n",
       "    }\n",
       "\n",
       "    .dataframe thead th {\n",
       "        text-align: right;\n",
       "    }\n",
       "</style>\n",
       "<table border=\"1\" class=\"dataframe\">\n",
       "  <thead>\n",
       "    <tr style=\"text-align: right;\">\n",
       "      <th></th>\n",
       "      <th>store</th>\n",
       "      <th>item</th>\n",
       "      <th>date</th>\n",
       "      <th>pred</th>\n",
       "    </tr>\n",
       "  </thead>\n",
       "  <tbody>\n",
       "    <tr>\n",
       "      <th>0</th>\n",
       "      <td>1</td>\n",
       "      <td>1</td>\n",
       "      <td>2017-10-03</td>\n",
       "      <td>20.330740</td>\n",
       "    </tr>\n",
       "    <tr>\n",
       "      <th>1</th>\n",
       "      <td>1</td>\n",
       "      <td>1</td>\n",
       "      <td>2017-10-04</td>\n",
       "      <td>20.482159</td>\n",
       "    </tr>\n",
       "    <tr>\n",
       "      <th>2</th>\n",
       "      <td>1</td>\n",
       "      <td>1</td>\n",
       "      <td>2017-10-05</td>\n",
       "      <td>21.998514</td>\n",
       "    </tr>\n",
       "    <tr>\n",
       "      <th>3</th>\n",
       "      <td>1</td>\n",
       "      <td>1</td>\n",
       "      <td>2017-10-06</td>\n",
       "      <td>23.426908</td>\n",
       "    </tr>\n",
       "    <tr>\n",
       "      <th>4</th>\n",
       "      <td>1</td>\n",
       "      <td>1</td>\n",
       "      <td>2017-10-07</td>\n",
       "      <td>24.846222</td>\n",
       "    </tr>\n",
       "  </tbody>\n",
       "</table>\n",
       "</div>"
      ],
      "text/plain": [
       "   store  item       date       pred\n",
       "0      1     1 2017-10-03  20.330740\n",
       "1      1     1 2017-10-04  20.482159\n",
       "2      1     1 2017-10-05  21.998514\n",
       "3      1     1 2017-10-06  23.426908\n",
       "4      1     1 2017-10-07  24.846222"
      ]
     },
     "execution_count": 24,
     "metadata": {},
     "output_type": "execute_result"
    }
   ],
   "source": [
    "def forecast_series(df_train_s, df_val_s, model, window=WINDOW, horizon=HORIZON):\n",
    "    # última ventana usando train+val por serie\n",
    "    preds = []\n",
    "    dates0 = df_test[\"date\"].min()\n",
    "    for (s,i), gtv in pd.concat([df_train_s, df_val_s]).groupby([\"store\",\"item\"]):\n",
    "        y_hist = gtv.sort_values(\"date\")[\"y\"].values\n",
    "        if len(y_hist) < window:\n",
    "            continue\n",
    "        lastX = y_hist[-window:].astype(np.float32)[None,:,None]\n",
    "        yhat_std = model.predict(lastX, verbose=0)[0]\n",
    "        mu, sd = stats.get((s,i), (0.0,1.0))\n",
    "        yhat = inverse_series(yhat_std, mu, sd)\n",
    "        df_out = pd.DataFrame({\n",
    "            \"store\": s, \"item\": i,\n",
    "            \"date\": pd.date_range(start=dates0, periods=horizon, freq=\"D\"),\n",
    "            \"pred\": yhat\n",
    "        })\n",
    "        preds.append(df_out)\n",
    "    return pd.concat(preds, axis=0).reset_index(drop=True) if preds else pd.DataFrame()\n",
    "\n",
    "preds_all = forecast_series(df_train_s, df_val_s, model)\n",
    "preds_all.head()\n"
   ]
  },
  {
   "cell_type": "markdown",
   "id": "546afa8c-1646-49f8-a454-ad2a33456c6a",
   "metadata": {},
   "source": [
    "### 12. Métricas por serie"
   ]
  },
  {
   "cell_type": "code",
   "execution_count": 26,
   "id": "83c79bca-0224-46be-889a-748277764b7a",
   "metadata": {},
   "outputs": [
    {
     "data": {
      "text/html": [
       "<div>\n",
       "<style scoped>\n",
       "    .dataframe tbody tr th:only-of-type {\n",
       "        vertical-align: middle;\n",
       "    }\n",
       "\n",
       "    .dataframe tbody tr th {\n",
       "        vertical-align: top;\n",
       "    }\n",
       "\n",
       "    .dataframe thead th {\n",
       "        text-align: right;\n",
       "    }\n",
       "</style>\n",
       "<table border=\"1\" class=\"dataframe\">\n",
       "  <thead>\n",
       "    <tr style=\"text-align: right;\">\n",
       "      <th></th>\n",
       "      <th>store</th>\n",
       "      <th>item</th>\n",
       "      <th>MAE</th>\n",
       "      <th>RMSE</th>\n",
       "    </tr>\n",
       "  </thead>\n",
       "  <tbody>\n",
       "    <tr>\n",
       "      <th>0</th>\n",
       "      <td>7</td>\n",
       "      <td>47</td>\n",
       "      <td>3.040397</td>\n",
       "      <td>3.916990</td>\n",
       "    </tr>\n",
       "    <tr>\n",
       "      <th>1</th>\n",
       "      <td>6</td>\n",
       "      <td>47</td>\n",
       "      <td>3.049029</td>\n",
       "      <td>4.014886</td>\n",
       "    </tr>\n",
       "    <tr>\n",
       "      <th>2</th>\n",
       "      <td>5</td>\n",
       "      <td>5</td>\n",
       "      <td>3.171560</td>\n",
       "      <td>4.110742</td>\n",
       "    </tr>\n",
       "    <tr>\n",
       "      <th>3</th>\n",
       "      <td>6</td>\n",
       "      <td>37</td>\n",
       "      <td>3.425309</td>\n",
       "      <td>4.151029</td>\n",
       "    </tr>\n",
       "    <tr>\n",
       "      <th>4</th>\n",
       "      <td>7</td>\n",
       "      <td>1</td>\n",
       "      <td>3.217356</td>\n",
       "      <td>4.234818</td>\n",
       "    </tr>\n",
       "    <tr>\n",
       "      <th>5</th>\n",
       "      <td>7</td>\n",
       "      <td>4</td>\n",
       "      <td>3.228260</td>\n",
       "      <td>4.244475</td>\n",
       "    </tr>\n",
       "    <tr>\n",
       "      <th>6</th>\n",
       "      <td>6</td>\n",
       "      <td>5</td>\n",
       "      <td>3.291293</td>\n",
       "      <td>4.257875</td>\n",
       "    </tr>\n",
       "    <tr>\n",
       "      <th>7</th>\n",
       "      <td>6</td>\n",
       "      <td>1</td>\n",
       "      <td>3.538552</td>\n",
       "      <td>4.294155</td>\n",
       "    </tr>\n",
       "    <tr>\n",
       "      <th>8</th>\n",
       "      <td>6</td>\n",
       "      <td>41</td>\n",
       "      <td>3.524507</td>\n",
       "      <td>4.370567</td>\n",
       "    </tr>\n",
       "    <tr>\n",
       "      <th>9</th>\n",
       "      <td>7</td>\n",
       "      <td>34</td>\n",
       "      <td>3.790344</td>\n",
       "      <td>4.518017</td>\n",
       "    </tr>\n",
       "  </tbody>\n",
       "</table>\n",
       "</div>"
      ],
      "text/plain": [
       "   store  item       MAE      RMSE\n",
       "0      7    47  3.040397  3.916990\n",
       "1      6    47  3.049029  4.014886\n",
       "2      5     5  3.171560  4.110742\n",
       "3      6    37  3.425309  4.151029\n",
       "4      7     1  3.217356  4.234818\n",
       "5      7     4  3.228260  4.244475\n",
       "6      6     5  3.291293  4.257875\n",
       "7      6     1  3.538552  4.294155\n",
       "8      6    41  3.524507  4.370567\n",
       "9      7    34  3.790344  4.518017"
      ]
     },
     "execution_count": 26,
     "metadata": {},
     "output_type": "execute_result"
    }
   ],
   "source": [
    "df_test_real = df_test[[\"store\",\"item\",\"date\",\"sales\"]].copy()\n",
    "eval_df = preds_all.merge(df_test_real, on=[\"store\",\"item\",\"date\"], how=\"inner\")\n",
    "from sklearn.metrics import mean_absolute_error, mean_squared_error\n",
    "\n",
    "metrics = []\n",
    "for (s,i), g in eval_df.groupby([\"store\",\"item\"]):\n",
    "    mae = mean_absolute_error(g[\"sales\"], g[\"pred\"])\n",
    "    mse = mean_squared_error(g[\"sales\"], g[\"pred\"])\n",
    "    rmse = math.sqrt(mse)\n",
    "    metrics.append({\"store\": s, \"item\": i, \"MAE\": mae, \"RMSE\": rmse})\n",
    "metrics_df = pd.DataFrame(metrics).sort_values(\"RMSE\").reset_index(drop=True)\n",
    "metrics_df.head(10)"
   ]
  }
 ],
 "metadata": {
  "kernelspec": {
   "display_name": "Python (dl-lab8, WSL)",
   "language": "python",
   "name": "dl-lab8"
  },
  "language_info": {
   "codemirror_mode": {
    "name": "ipython",
    "version": 3
   },
   "file_extension": ".py",
   "mimetype": "text/x-python",
   "name": "python",
   "nbconvert_exporter": "python",
   "pygments_lexer": "ipython3",
   "version": "3.10.12"
  }
 },
 "nbformat": 4,
 "nbformat_minor": 5
}
